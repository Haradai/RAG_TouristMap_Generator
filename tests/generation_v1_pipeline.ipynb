{
 "cells": [
  {
   "cell_type": "markdown",
   "metadata": {},
   "source": [
    "Load document store"
   ]
  },
  {
   "cell_type": "code",
   "execution_count": 1,
   "metadata": {},
   "outputs": [
    {
     "name": "stderr",
     "output_type": "stream",
     "text": [
      "/Users/josepsmachine/miniforge3/envs/haystack_stuff/lib/python3.9/site-packages/tqdm/auto.py:21: TqdmWarning: IProgress not found. Please update jupyter and ipywidgets. See https://ipywidgets.readthedocs.io/en/stable/user_install.html\n",
      "  from .autonotebook import tqdm as notebook_tqdm\n"
     ]
    }
   ],
   "source": [
    "from qdrant_haystack import QdrantDocumentStore\n",
    "\n",
    "document_store = QdrantDocumentStore(\n",
    "    path=\"qdrant\",\n",
    "    index=\"Document\",\n",
    "    embedding_dim=768,\n",
    "    recreate_index=False,\n",
    ")"
   ]
  },
  {
   "cell_type": "markdown",
   "metadata": {},
   "source": [
    "Load initial places"
   ]
  },
  {
   "cell_type": "code",
   "execution_count": 2,
   "metadata": {},
   "outputs": [],
   "source": [
    "import pickle\n",
    "with open('initial_places.pkl', 'rb') as f:\n",
    "    initial_places = pickle.load(f)"
   ]
  },
  {
   "cell_type": "markdown",
   "metadata": {},
   "source": [
    "## Tools:\n",
    "Load and initialise tools that are going to be used:"
   ]
  },
  {
   "cell_type": "code",
   "execution_count": 3,
   "metadata": {},
   "outputs": [
    {
     "name": "stderr",
     "output_type": "stream",
     "text": [
      "Some weights of the model checkpoint at dslim/bert-base-NER were not used when initializing BertForTokenClassification: ['bert.pooler.dense.bias', 'bert.pooler.dense.weight']\n",
      "- This IS expected if you are initializing BertForTokenClassification from the checkpoint of a model trained on another task or with another architecture (e.g. initializing a BertForSequenceClassification model from a BertForPreTraining model).\n",
      "- This IS NOT expected if you are initializing BertForTokenClassification from the checkpoint of a model that you expect to be exactly identical (initializing a BertForSequenceClassification model from a BertForSequenceClassification model).\n"
     ]
    }
   ],
   "source": [
    "from src.search_scrape_PIPE import search_scrape_pipeline\n",
    "search_scrape_pipe = search_scrape_pipeline(document_store)"
   ]
  },
  {
   "cell_type": "code",
   "execution_count": 4,
   "metadata": {},
   "outputs": [],
   "source": [
    "from duckduckgo_search import DDGS\n",
    "\n",
    "def internet_search_tool(search:str,n_results=3)->bool:\n",
    "    '''\n",
    "    This function makes use of the chatgpt api and google search library to, \n",
    "    given some place in the form of a string and a country name determine if \n",
    "    that place is in the named country or even a place at all.\n",
    "    For that we will first inject to gpt a summary of the top 15 results found.\n",
    "\n",
    "    :param place: string of the place to search\n",
    "    :param place: string of the country to search\n",
    "    :param n_results: number of page summaries to show to gpt     \n",
    "    '''\n",
    "\n",
    "    #first of all we'll perform a search and add the results.\n",
    "    result_links = search_scrape_pipe.run(search,topk=20)\n",
    "\n",
    "\n",
    "    results = f\"Search: {search}\\nResults:\\n\"\n",
    "    #now we'll look for our results in the doc_store using the returned links\n",
    "    cnt = 0\n",
    "    for doc in document_store.get_all_documents_generator():\n",
    "        if doc.meta[\"url\"] in result_links:\n",
    "            results += f\"({cnt+1})\\n \" + doc.meta[\"summary\"] + \"\\n\"\n",
    "            cnt += 1\n",
    "\n",
    "            #delete the link from result_links as one summary can appear in multiple documents\n",
    "            #if a page has been chopped into chunks\n",
    "            result_links.pop(result_links.index(doc.meta[\"url\"]))\n",
    "        \n",
    "        if cnt == n_results:\n",
    "            break\n",
    "    \n",
    "    return results"
   ]
  },
  {
   "cell_type": "code",
   "execution_count": 5,
   "metadata": {},
   "outputs": [
    {
     "name": "stderr",
     "output_type": "stream",
     "text": [
      "/Users/josepsmachine/miniforge3/envs/haystack_stuff/lib/python3.9/site-packages/torch/_utils.py:776: UserWarning: TypedStorage is deprecated. It will be removed in the future and UntypedStorage will be the only storage class. This should only matter to you if you are using storages directly.  To access UntypedStorage directly, use tensor.untyped_storage() instead of tensor.storage()\n",
      "  return self.fget.__get__(instance, owner)()\n",
      "You seem to be using sentence-transformers/multi-qa-mpnet-base-dot-v1 model with the cosine function instead of the recommended dot_product. This can be set when initializing the DocumentStore\n"
     ]
    }
   ],
   "source": [
    "from haystack.nodes import EmbeddingRetriever\n",
    "import torch\n",
    "\n",
    "retriever = EmbeddingRetriever(\n",
    "            document_store=document_store, embedding_model=\"sentence-transformers/multi-qa-mpnet-base-dot-v1\",use_gpu=True,devices=[torch.device(\"mps\"),]\n",
    "        )"
   ]
  },
  {
   "cell_type": "code",
   "execution_count": 6,
   "metadata": {},
   "outputs": [],
   "source": [
    "from langchain.agents import initialize_agent\n",
    "from langchain.agents import AgentType\n",
    "from langchain.llms import OpenAI\n",
    "from langchain.agents.tools import Tool\n",
    "from langchain.tools import StructuredTool\n",
    "from langchain import PromptTemplate, OpenAI, LLMChain"
   ]
  },
  {
   "cell_type": "code",
   "execution_count": 7,
   "metadata": {},
   "outputs": [],
   "source": [
    "#llm initialisation\n",
    "llm = OpenAI(temperature=0,openai_api_key=\"\")"
   ]
  },
  {
   "cell_type": "code",
   "execution_count": 8,
   "metadata": {},
   "outputs": [],
   "source": [
    "#wikipedia search tool\n",
    "from langchain.tools import WikipediaQueryRun\n",
    "from langchain.utilities import WikipediaAPIWrapper\n",
    "\n",
    "wikipedia = WikipediaQueryRun(api_wrapper=WikipediaAPIWrapper())"
   ]
  },
  {
   "cell_type": "code",
   "execution_count": 9,
   "metadata": {},
   "outputs": [
    {
     "name": "stderr",
     "output_type": "stream",
     "text": [
      "/Users/josepsmachine/Documents/PROGRAMMING/TOURIST_MAP_GENERATOR/src/coordinates_search.py:27: DtypeWarning: Columns (0,5,9,16) have mixed types. Specify dtype option on import or set low_memory=False.\n",
      "  self.df = pd.read_csv('NO.txt', sep=\"\\t\", header=None,names=features.keys())\n"
     ]
    }
   ],
   "source": [
    "from src.coordinates_search import coordinates_search\n",
    "cordi_searchy_tool = coordinates_search(\"NO.txt\")"
   ]
  },
  {
   "cell_type": "code",
   "execution_count": 10,
   "metadata": {},
   "outputs": [
    {
     "name": "stderr",
     "output_type": "stream",
     "text": [
      "Special tokens have been added in the vocabulary, make sure the associated word embeddings are fine-tuned or trained.\n",
      "Special tokens have been added in the vocabulary, make sure the associated word embeddings are fine-tuned or trained.\n"
     ]
    }
   ],
   "source": [
    "#first the question answerer that uses a combination of qa pipeline \n",
    "# with entailment checker and t5 to generate possible answers to a question \n",
    "# and their entailment to the knowledge base.\n",
    "from src.question_search_answer_entail_TOOL import question_search_answer_entail\n",
    "QSAE_tool = question_search_answer_entail(document_store,retriever=retriever)"
   ]
  },
  {
   "cell_type": "code",
   "execution_count": 11,
   "metadata": {},
   "outputs": [],
   "source": [
    "from src.simple_search_TOOL import simple_search\n",
    "SS = simple_search(document_store,retriever)"
   ]
  },
  {
   "cell_type": "code",
   "execution_count": 12,
   "metadata": {},
   "outputs": [],
   "source": [
    "from haystack.document_stores import FAISSDocumentStore\n",
    "\n",
    "places_doc_store = FAISSDocumentStore(faiss_index_factory_str=\"Flat\")"
   ]
  },
  {
   "cell_type": "code",
   "execution_count": 13,
   "metadata": {},
   "outputs": [],
   "source": [
    "from haystack.schema import Document"
   ]
  },
  {
   "cell_type": "code",
   "execution_count": 14,
   "metadata": {},
   "outputs": [
    {
     "name": "stderr",
     "output_type": "stream",
     "text": [
      "/Users/josepsmachine/miniforge3/envs/haystack_stuff/lib/python3.9/site-packages/transformers/convert_slow_tokenizer.py:470: UserWarning: The sentencepiece tokenizer that you are converting to a fast tokenizer uses the byte fallback option which is not implemented in the fast tokenizers. In practice this means that the fast version of the tokenizer can produce unknown tokens whereas the sentencepiece version would have converted these unknown tokens into a sequence of byte tokens matching the original piece of text.\n",
      "  warnings.warn(\n"
     ]
    }
   ],
   "source": [
    "from transformers import pipeline\n",
    "classifier = pipeline(\"zero-shot-classification\", model=\"MoritzLaurer/DeBERTa-v3-base-mnli-fever-anli\")\n",
    "candidate_labels = [\"nature\",\"culinary\", \"city\", \"cultural\",\"other\"]"
   ]
  },
  {
   "cell_type": "code",
   "execution_count": 15,
   "metadata": {},
   "outputs": [
    {
     "name": "stderr",
     "output_type": "stream",
     "text": [
      "Batches:   0%|          | 0/1 [00:00<?, ?it/s]/Users/josepsmachine/miniforge3/envs/haystack_stuff/lib/python3.9/site-packages/transformers/models/mpnet/modeling_mpnet.py:1053: UserWarning: torch.cumsum supported by MPS on MacOS 13+, please upgrade (Triggered internally at /Users/runner/work/pytorch/pytorch/pytorch/aten/src/ATen/native/mps/operations/UnaryOps.mm:264.)\n",
      "  incremental_indices = torch.cumsum(mask, dim=1).type_as(mask) * mask\n",
      "Batches: 100%|██████████| 1/1 [00:00<00:00,  2.40it/s]"
     ]
    },
    {
     "name": "stdout",
     "output_type": "stream",
     "text": [
      "Query: weather\n",
      "(1)\n",
      "A lover of cold, wild, mountainous places, Lonely Planet writer Kerry Walker headed to Norway's southern fjords to find the true meaning of \"friluftsliv\" (outdoor living). Here she shares a snapshot of her adventures.\n",
      "\n",
      "Ever since I first set foot in Norway a decade ago, I've dreamed of visiting the fjords proper. Summer's crowds and cruise boats would not be for me, so instead, I decided to piece together my own itinerary from Stavanger to Bergen in late spring. And I found a region of rare beauty, with thundering rivers, flint-blue fjords and glacier-encrusted peaks - all ripe for adventure.\n",
      "\n",
      "Rock up in May or early June, and you'll have much of the region to yourself. The fjords are at their photogenic best at this time of year, with the landscape bursting into blossom, waterfalls raging away as the ice melts, snow still on the summits and light nights allowing you to eke out every precious moment.\n",
      "\n",
      "Immerse yourself in the best experiences the world has to offer with our email newsletter delivered weekly into your inbox.\n",
      "\n",
      "Kerry's cottage accommodation known as Haukali33/3 - owner Reidunn is pictured with a traditional Norwegian lunch © Kerry Walker\n",
      "\n",
      "Where did you stay? \n",
      "(2)\n",
      "Med bil\n",
      "\n",
      "Før du setter deg i bilen må du være oppmerksom på at det er mange bilferger, bomstasjoner og vinterstengte veier, som kan gjøre at bilturen tar lenger tid enn du tror. Et eksempel på avstander og kjøretider på Vestlandet er en kjøretur fra Stavanger i sør via Bergen til Ålesund i nord. Denne turen er på nesten 600 km, og vil ta omtrent 9 timer å kjøre.\n",
      "\n",
      "Noen eksempler på kjøretider til et utvalg steder på Vestlandet:\n",
      "\n",
      "Kjøretider til Bergen fra\n",
      "\n",
      "Oslo: 7 timer (460 km)\n",
      "\n",
      "Kristiansand: 8 timer (465 km)\n",
      "\n",
      "Trondheim: 11 timer (660 km)\n",
      "\n",
      "Kjøretider til Stavanger fra\n",
      "\n",
      "Oslo: 7 timer (440 km)\n",
      "\n",
      "Kristiansand: 3,5 timer (230 km)\n",
      "\n",
      "Trondheim: 13,5 timer (860 km)\n",
      "\n",
      "Kjøretider til Ålesund fra\n",
      "\n",
      "Oslo: 7,5 timer (550 km)\n",
      "\n",
      "Kristiansand: 11 timer (870 km)\n",
      "\n",
      "Trondheim: 5,5 timer (300 km)\n",
      "\n",
      "Kjøretider til Flåm fra\n",
      "\n",
      "Oslo: 4,5 timer (315 km)\n",
      "\n",
      "Kristiansand: 7,5 timer (490 km)\n",
      "\n",
      "Trondheim: 9 timer (495 km)\n",
      "\n",
      "Kjøretider til Geiranger fra\n",
      "\n",
      "Oslo: 8 timer (450 km)\n",
      "\n",
      "Kristiansand: 12 timer (770 km)\n",
      "\n",
      "Trondheim: 6,5 timer (375 km)\n",
      "\n",
      "Nasjonale turistveier\n",
      "\n",
      "18 veistrekninger i Norge har fått status som nasjonale turistveier, og 10 av dem ligger på Vestlandet. \n",
      "(3)\n",
      "Noen eksempler på kjøretider til et utvalg steder på Vestlandet:\n",
      "\n",
      "Kjøretider til Bergen fra\n",
      "\n",
      "Oslo: 7 timer (460 km)\n",
      "\n",
      "Kristiansand: 8 timer (465 km)\n",
      "\n",
      "Trondheim: 11 timer (660 km)\n",
      "\n",
      "Kjøretider til Stavanger fra\n",
      "\n",
      "Oslo: 7 timer (440 km)\n",
      "\n",
      "Kristiansand: 3,5 timer (230 km)\n",
      "\n",
      "Trondheim: 13,5 timer (860 km)\n",
      "\n",
      "Kjøretider til Ålesund fra\n",
      "\n",
      "Oslo: 7,5 timer (550 km)\n",
      "\n",
      "Kristiansand: 11 timer (870 km)\n",
      "\n",
      "Trondheim: 5,5 timer (300 km)\n",
      "\n",
      "Kjøretider til Flåm fra\n",
      "\n",
      "Oslo: 4,5 timer (315 km)\n",
      "\n",
      "Kristiansand: 7,5 timer (490 km)\n",
      "\n",
      "Trondheim: 9 timer (495 km)\n",
      "\n",
      "Kjøretider til Geiranger fra\n",
      "\n",
      "Oslo: 8 timer (450 km)\n",
      "\n",
      "Kristiansand: 12 timer (770 km)\n",
      "\n",
      "Trondheim: 6,5 timer (375 km)\n",
      "\n",
      "Nasjonale turistveier\n",
      "\n",
      "18 veistrekninger i Norge har fått status som nasjonale turistveier, og 10 av dem ligger på Vestlandet. Hver strekning har utsiktspunkter og stoppeplasser med spennende arkitektur som er verdt en pause.\n",
      "\n",
      "Med tog\n",
      "\n",
      "Reise med tog til og rundt på Vestlandet er veldig populært, og absolutt å anbefale. Velg for eksempel å reise med:\n",
      "\n",
      "Flåmsbana: En av verdens aller flotteste togreiser går mellom Flåm og Hardangervidda.\n",
      "\n",
      "Raumabanen: Denne turen tar deg gjennom den spektakulære naturen mellom Dombås og Åndalsnes.\n",
      "\n",
      "\n",
      "(4)\n",
      "Bertelsen’s tips for a Saturday with the locals in Bergen\n",
      "\n",
      "On a sunny day: Everyone knows that Bergen doesn’t have the most reliable weather. So when the sun comes out on a Saturday, it’s best to make the most of it in the city centre. This includes any or all of the following, regardless of the season and ideally all at once: lunch, beer, and ice cream. But bring your brolly, just in case!\n",
      "\n",
      "Explore charming neighbourhoods: Bergen is full of cute wooden buildings and cobbled streets. The most visited districts are Bryggen, Nøstet, and Klosteret. A lovely area is Indre Sandviken, with charming alleys, street art, and old houses. Try a waffle with Norwegian brown cheese at the kitsch but homely Bar Barista in Øvregaten, which is full of interesting old trinkets. In the evenings, the owner often plays music from his extensive vinyl collection. Stop at Bod 24, located in an old storage room in Sandviken, for a tasty lunch – especially recommended when you can sit outdoors on the pier. Close by you’ll find the friendly and down-to-earth water hole Dr. Wiesener. They are also well-known for their “raspeballer”, traditional Norwegian potato dumplings.\n",
      "\n",
      "\n",
      "(5)\n",
      "Her kaster fossene seg ned langs fjellsidene, det skinner evig snø på toppene og gresset lyser irrgrønt mot fjorden.\n",
      "\n",
      "Øyriket Austevoll\n",
      "\n",
      "Øyriket Austevoll med sine 667 øyer og holmer ligger midt mellom Bergen og Stord, og tettstedene Storebø og Bekkjarvik er de mest kjente.Du kan ta båt fra Strandkaiterminalen i Bergen sentrum til Bekkjarvik. Austevoll er blitt et sykkelparadis etter at de største øyene har blitt knyttet sammen av broer.\n",
      "\n",
      "Uberørt natur i Nordhordland\n",
      "\n",
      "I Nordhordland, mellom Bergen og Sognefjorden, finner du vakre fjorder, uberørt natur og trange sund med strie strømmer. Ta båten fra Bergen sentrum til Mostraumen, for å oppleve stupbratte fjell og fossefall, idylliske gårdsbruk og små tettsteder, dyreliv og frisk sjøluft. Eller besøk Fedje – landsbyen i havet – et øysamfunn med litt over 500 innbygger ytterst i havet.\n",
      "\n",
      "Mat og musikk i Tysnes\n",
      "\n",
      "Tysnes er stedet for de gode matopplevelsene og festivalen Tysnesfest, en familievennlig musikkfestival. Spis deilig mat på Mandelhuset innimellom konsertene. I Øygarden kan du dra på fugletitting, vandre på flotte kyststier, fiske, padle kajakk eller prøve coasteering. Her ligger også flere museer der du kan lære mer om krigs- og okkupasjonshistorien vår.\n",
      "\n"
     ]
    },
    {
     "name": "stderr",
     "output_type": "stream",
     "text": [
      "\n"
     ]
    }
   ],
   "source": [
    "print(SS.run(\"weather\",\"Bergen\"))"
   ]
  },
  {
   "cell_type": "markdown",
   "metadata": {},
   "source": [
    "# Pipeline run"
   ]
  },
  {
   "cell_type": "code",
   "execution_count": 16,
   "metadata": {},
   "outputs": [],
   "source": [
    "tools_step2 = [\n",
    "    Tool(\n",
    "        name = \"Broad knowledge search\",\n",
    "        func = internet_search_tool,\n",
    "        description = \"Returns three search results based on your input text, good for broad information.\"\n",
    "    ),\n",
    "\n",
    "    Tool(\n",
    "        name =  \"Question answerer\",\n",
    "        func = QSAE_tool.run,\n",
    "        description= \"Useful to find new information. Further evaluation of the answers and fact checking has to be performed using other tools. This tool should be the last resources\"\n",
    "    ),\n",
    "\n",
    "    StructuredTool.from_function(SS.run,\n",
    "    name=\"Semantic search\",\n",
    "    description=\"Useful to search for concrete information. The filter argument should always be the place being searched for (properly capitalize the name).\"\n",
    "    )\n",
    "]"
   ]
  },
  {
   "cell_type": "code",
   "execution_count": 17,
   "metadata": {},
   "outputs": [
    {
     "name": "stdout",
     "output_type": "stream",
     "text": [
      "starting to analyze Øye\n",
      "\n",
      "\n",
      "\u001b[1m> Entering new AgentExecutor chain...\u001b[0m\n",
      "\u001b[32;1m\u001b[1;3mAction:\n",
      "```\n",
      "{\n",
      "  \"action\": \"Broad knowledge search\",\n",
      "  \"action_input\": \"Øye tourist guide\"\n",
      "}\n",
      "```\n",
      "\u001b[0m"
     ]
    },
    {
     "name": "stderr",
     "output_type": "stream",
     "text": [
      " 20%|██        | 4/20 [00:03<00:15,  1.04it/s]"
     ]
    },
    {
     "name": "stdout",
     "output_type": "stream",
     "text": [
      "Unable to extract text from https://www.heartmybackpack.com/norway/hotel-union-oye-review/\n"
     ]
    },
    {
     "name": "stderr",
     "output_type": "stream",
     "text": [
      " 40%|████      | 8/20 [00:07<00:12,  1.08s/it]"
     ]
    },
    {
     "name": "stdout",
     "output_type": "stream",
     "text": [
      "Unable to extract text from https://thehiddennorth.com/recreating-the-past-at-oye-stave-church/\n"
     ]
    },
    {
     "name": "stderr",
     "output_type": "stream",
     "text": [
      "100%|██████████| 20/20 [00:24<00:00,  1.25s/it]\n",
      "Preprocessing: 100%|██████████| 18/18 [00:00<00:00, 2531.69docs/s]\n",
      "Extracting entities: 100%|██████████| 2/2 [00:03<00:00,  1.50s/it]\n",
      "10000it [00:00, 169078.80it/s]        \n"
     ]
    },
    {
     "name": "stdout",
     "output_type": "stream",
     "text": [
      "\n",
      "Observation: \u001b[36;1m\u001b[1;3mSearch: Øye tourist guide\n",
      "Results:\n",
      "(1)\n",
      " Dette er en liste over øyer i Estland .\n",
      "Det finnes 1521 øyer.\n",
      "Dette er ikke en komplett liste.\n",
      "Største øyer [ rediger | rediger kilde ]1) Kassari blir noen ganger regnet som en del av Hiiumaa.\n",
      "Abruka – Adralaid – Aegna (Wulf) – Ahelaid – Aherahu (Atla) – Aherahu – Ahessäär – Ahtra – Aksi – Allirahu (Kõiguste) – Allirahu (Pihtla) (Väike-Prangli) – Allirahu – Allu – Alumine Vaika – Anekäbrud – Ankrurahu – Annilaid (Anõlaid) – Antsulaiud – Anulaid – AuklaiustEerikukivi – Eerikulaid – Elmrahu – EsirahuGretagrundHanemaa – Hanerahu – Hanikatsi laid – Hara – Harilaid, utenfor Vormsi – Harilaid, utenfor Saaremaa – Härjakare – Härjamaa – Heinlaid (Kõiguste laht) – Heinlaid (Väinameri) – Hellamaa rahu – Hiiumaa (Dagö) – Hobulaid – Hõralaid – Hülgelaid – HülgerahuImutilaid – InnarahuJuksirahuKadakalaid – Kaevatsi laid – Kahtla laid – Kajakarahu – Käkimaa – Käkirahu – Kakralaid – Kakrarahu – Karirahu – Kassari – Kasselaid – Keri (Kokskär) – Keskmine Vaika – Kesselaid – Kihnu (Kynö) – Kitselaid — Koerakuiv – Kõinastu – Koipsi – Kõrgelaid – Kõrksaar – Kõverlaid – Kreenholm – Kriimi laid – Kräsuli – Kuivarahu – Külalaid – Kullilaid – Kullipank – Küllisäär – Kumari – Kungli – Kunnati laid – Kuradisäär – KurgurahuLaasirahu – Laidu – Läkumätas – Langekare – Leemetikare – Liia – Liisi – Liivakari – Linnusitamaa – Loonalaid – LuigerahuMaakrirahu – Manilaid – Mardirahu – Maturahu – Mihklirahu – Mohni – Mondelaid – Muhu (Moon) – Munaderahu – Munasaar – Mustarahu – Mustpank – Mustpank (Vaika)Nabralaid – Naissaar (Nargö) – Naistekivi maa – Ninalaid – Noogimaa – Nootamaa– NosurahuÖakse – Oitma – Ojurahu – Öörahu – Orikalaid – Osmussaar (Odensholm)Paelaid – Pakri Islands (Rågöarna) – Pakulaid – Papilaid – Papirahu – Pasilaid – Pedassaar – Pihanasu – Pihlakare – Pihlalaid – Piirissaar – Pikknasv – Piskumadal – Põdvalaid – Põiksäär — Prangli (Vrangö) – Pühadekare – Puhtulaid – PuningalaidRammu – Rannasitik – Riinurahu – Ristlaid – Rohurahu – Rohusi saar – Rooglaid – Ruhnu (Runö) – Rukkirahu – RusulaidSaare ots – Saaremaa (Ösel) – Saarnaki laid – Salava – Sangelaid – Seasaar – Selglaid – Sepasitik – Sillalaid – Sipelgarahu – Sitakare – Sokulaid – Sõmeri — Sorgu – Suuregi laid – Suurepoldi – Suurlaid – Suur-Pakri (Västerö) – SuurrahuTaguküla laid – Täkulaid – Täkunasv – Tarja – Tauksi – Telve – Tiirloo – Tondirahu – TondisaarUdrikulaid – Uhtju saar — Uhtju saared – Ülemine Vaika island – Ulkkari – Umalakotid – Umblu – Urverahu – Uuluti laid – Uus-NootamaaVahase – Vahelmisrahu – Vaika islands – Väike-Pihlakare – Väike-Tulpe – Väike-Pakri (Österö) – Vaindloo – Valgerahu – Vareslaid (Käina Bay) – Vareslaid (Väinameri) – Varesrahu – Vasikakuiv – Vasikalaid – Vassiklaid – Vesiloo – Vesitükimaa – Vesitükimaa islets – Viirekare – Viirelaid – Vilsandi – Vissulaid – Vohilaid – Võilaid – Võrgukare – Vormsi (Ormsö)\n",
      "(2)\n",
      " Language links are at the top of the page across from the title.\n",
      "(3)\n",
      " Fjord Cruise Hjørundfjord is an excellent hub when exploring the region or just a beautiful day trip.\n",
      "In the Øye area you can, for example, explore ruins of underwater farms in Norangsdalen in the summer or spend lazy days by the fjord with the fishing rod.\n",
      "Things to doTry the famous swing at Trandal/Christiangaard Farm, and enjoy a nice lunch while you are waiting for the next boat departure.\n",
      "Urke is a perfect start for many of the nice hikes in Hjørundfjord, like Saksa and Urkeegga, and local easy hikes to Gapahuken.\n",
      "There are also many local Guide Companies that will be happy to be your guide.\n",
      "\u001b[0m\n",
      "Thought:\u001b[32;1m\u001b[1;3m I have enough information to respond\n",
      "Action:\n",
      "```\n",
      "{\n",
      "  \"action\": \"Final Answer\",\n",
      "  \"action_input\": \"Øye is a beautiful area in Norway with many attractions and activities for tourists. Popular activities include exploring the ruins of underwater farms in Norangsdalen, fishing, and taking a fjord cruise. There are also many local guide companies that can help visitors explore the area. Popular hikes include Saksa and Urkeegga, as well as easy hikes to Gapahuken. Visitors can also enjoy a meal at Trandal/Christiangaard Farm and take a swing there.\"\n",
      "}\n",
      "```\n",
      "\n",
      "\u001b[0m\n",
      "\n",
      "\u001b[1m> Finished chain.\u001b[0m\n",
      "\n",
      "\n",
      "\u001b[1m> Entering new AgentExecutor chain...\u001b[0m\n",
      "\u001b[32;1m\u001b[1;3mAction:\n",
      "```\n",
      "{\n",
      "  \"action\": \"Semantic search\",\n",
      "  \"action_input\": {\n",
      "    \"query\": \"weather\",\n",
      "    \"filter\": \"Øye\",\n",
      "    \"topk\": 1\n",
      "  }\n",
      "}\n",
      "```\n",
      "\n",
      "\u001b[0m"
     ]
    },
    {
     "name": "stderr",
     "output_type": "stream",
     "text": [
      "Batches: 100%|██████████| 1/1 [00:00<00:00,  6.25it/s]"
     ]
    },
    {
     "name": "stdout",
     "output_type": "stream",
     "text": [
      "\n",
      "Observation: \u001b[38;5;200m\u001b[1;3mQuery: weather\n",
      "(1)\n",
      "Now, and then the highlight of the day is the 3-course dinner, composed by our chef with the best local ingredients of the season. Served in the dining room and followed by excellent tales of days long gone told in the Sun Lounge while you savour your coffee. Enjoy an evening of refreshments as you gaze up at cascading waterfalls.\n",
      "\n",
      "You will be pleased to know that daylight hours in the summer at Øye lasts until midnight, giving you extra time to explore the beautiful mountains nearby. Take a walk down to the waterside to admire the majestic mountains reflected in the fjords.\n",
      "\n",
      "Hotel Union Øye is a 62°Nord hotel. 62°Nord offers tailor made activities in Fjord Norway.\n",
      "\n",
      "unionoye.no\n",
      "\n",
      "#hotelunionoye\n",
      "\u001b[0m\n",
      "Thought:"
     ]
    },
    {
     "name": "stderr",
     "output_type": "stream",
     "text": [
      "\n"
     ]
    },
    {
     "name": "stdout",
     "output_type": "stream",
     "text": [
      "\u001b[32;1m\u001b[1;3m I have the answer\n",
      "Action:\n",
      "```\n",
      "{\n",
      "  \"action\": \"Final Answer\",\n",
      "  \"action_input\": \"The weather in Øye is usually mild with long daylight hours in the summer and cascading waterfalls.\"\n",
      "}\n",
      "```\u001b[0m\n",
      "\n",
      "\u001b[1m> Finished chain.\u001b[0m\n",
      "\n",
      "\n",
      "\u001b[1m> Entering new AgentExecutor chain...\u001b[0m\n",
      "\u001b[32;1m\u001b[1;3mAction:\n",
      "```\n",
      "{\n",
      "  \"action\": \"Semantic search\",\n",
      "  \"action_input\": {\n",
      "    \"query\": \"best time of the year to visit Øye\",\n",
      "    \"filter\": \"Øye\",\n",
      "    \"topk\": 1\n",
      "  }\n",
      "}\n",
      "```\n",
      "\n",
      "\u001b[0m"
     ]
    },
    {
     "name": "stderr",
     "output_type": "stream",
     "text": [
      "Batches: 100%|██████████| 1/1 [00:00<00:00,  9.65it/s]"
     ]
    },
    {
     "name": "stdout",
     "output_type": "stream",
     "text": [
      "\n",
      "Observation: \u001b[38;5;200m\u001b[1;3mQuery: best time of the year to visit Øye\n",
      "(1)\n",
      "Now, and then the highlight of the day is the 3-course dinner, composed by our chef with the best local ingredients of the season. Served in the dining room and followed by excellent tales of days long gone told in the Sun Lounge while you savour your coffee. Enjoy an evening of refreshments as you gaze up at cascading waterfalls.\n",
      "\n",
      "You will be pleased to know that daylight hours in the summer at Øye lasts until midnight, giving you extra time to explore the beautiful mountains nearby. Take a walk down to the waterside to admire the majestic mountains reflected in the fjords.\n",
      "\n",
      "Hotel Union Øye is a 62°Nord hotel. 62°Nord offers tailor made activities in Fjord Norway.\n",
      "\n",
      "unionoye.no\n",
      "\n",
      "#hotelunionoye\n",
      "\u001b[0m\n",
      "Thought:"
     ]
    },
    {
     "name": "stderr",
     "output_type": "stream",
     "text": [
      "\n"
     ]
    },
    {
     "name": "stdout",
     "output_type": "stream",
     "text": [
      "\u001b[32;1m\u001b[1;3m I know what to respond\n",
      "Action:\n",
      "```\n",
      "{\n",
      "  \"action\": \"Final Answer\",\n",
      "  \"action_input\": \"The best time of the year to visit Øye is during the summer months when daylight hours last until midnight, giving you extra time to explore the beautiful mountains nearby.\"\n",
      "}\n",
      "```\u001b[0m\n",
      "\n",
      "\u001b[1m> Finished chain.\u001b[0m\n",
      "\n",
      "\n",
      "\u001b[1m> Entering new AgentExecutor chain...\u001b[0m\n",
      "\u001b[32;1m\u001b[1;3mAction:\n",
      "```\n",
      "{\n",
      "  \"action\": \"Semantic search\",\n",
      "  \"action_input\": {\n",
      "    \"query\": \"public transport in Øye\",\n",
      "    \"filter\": \"Øye\",\n",
      "    \"topk\": 5\n",
      "  }\n",
      "}\n",
      "```\n",
      "\n",
      "\u001b[0m"
     ]
    },
    {
     "name": "stderr",
     "output_type": "stream",
     "text": [
      "Batches: 100%|██████████| 1/1 [00:00<00:00,  9.05it/s]"
     ]
    },
    {
     "name": "stdout",
     "output_type": "stream",
     "text": [
      "\n",
      "Observation: \u001b[38;5;200m\u001b[1;3mQuery: public transport in Øye\n",
      "(1)\n",
      "Distance and total height gain: From Øye: 3 km. 4,921 ft. From Patchellhytta: 3 km. 2,460 ft. From Urke: 3,937 ft. 8 km.\n",
      "\n",
      "Access Bus/car to Øye or Stranda/Engeset.\n",
      "\n",
      "Worth noting You are strongly advised not to use the snow fields on the way down unless you have an ice axe and know how to brake with it. This practice leads to several serious accidents every year.\n",
      "(2)\n",
      "Now, and then the highlight of the day is the 3-course dinner, composed by our chef with the best local ingredients of the season. Served in the dining room and followed by excellent tales of days long gone told in the Sun Lounge while you savour your coffee. Enjoy an evening of refreshments as you gaze up at cascading waterfalls.\n",
      "\n",
      "You will be pleased to know that daylight hours in the summer at Øye lasts until midnight, giving you extra time to explore the beautiful mountains nearby. Take a walk down to the waterside to admire the majestic mountains reflected in the fjords.\n",
      "\n",
      "Hotel Union Øye is a 62°Nord hotel. 62°Nord offers tailor made activities in Fjord Norway.\n",
      "\n",
      "unionoye.no\n",
      "\n",
      "#hotelunionoye\n",
      "(3)\n",
      "In the village of Øye by the Norangsfjord you will find one of the most distinct hotels in all of Europe.\n",
      "\n",
      "In the village of Øye by the Norangsfjord you will find one of the most distinct hotels in all of Europe.\n",
      "\n",
      "It has been a place where visitors come to savour the good life and the tranquillity in magnificent surroundings since 1891. It has been a favourite venue of royalties, writers and lovers for generations.\n",
      "\n",
      "The 27 rooms, all of which are individually furnished with carefully selected antiques, are named after notables who have stayed here: Kaiser Wilhelm, King Oscar, Queen Maud and Princess Victoria; the authors Karen Blixen, Knut Hamsun and Sir Arthur Conan Doyle; the composer Edvard Grieg, playwright Henrik Ibsen and the explorer Roald Amundsen, to mention but a few.\n",
      "\n",
      "Now, and then the highlight of the day is the 3-course dinner, composed by our chef with the best local ingredients of the season. Served in the dining room and followed by excellent tales of days long gone told in the Sun Lounge while you savour your coffee. Enjoy an evening of refreshments as you gaze up at cascading waterfalls.\n",
      "\n",
      "\n",
      "(4)\n",
      "Worth noting You are strongly advised not to use the snow fields on the way down unless you have an ice axe and know how to brake with it. This practice leads to several serious accidents every year.\n",
      "\n",
      "Slogen is arguably the finest summit in the Sunnmøre Alps and the view is impressive! From the fjord a triangular pyramid-like feature rises straight up. Patchellhytta cabin lies at the foot of Slogen and is popular day tour objective in itself, but it is also a good starting point for ascents of Slogen, as well as Brekketind (5,833 ft) and Smørskredstind (5,351 ft). There are several alternative routes to Patchellhytta, and onwards to Slogen, either from Øye, Engeset or Urke.\n",
      "\n",
      "Season Jun - Sept\n",
      "\n",
      "Duration From Øye: 4-5 hours, Urke: 5 hours and Patchellhytta: 2-3 hours. Distance and total height gain: From Øye: 3 km. 4,921 ft. From Patchellhytta: 3 km. 2,460 ft. From Urke: 3,937 ft. 8 km.\n",
      "\n",
      "Access Bus/car to Øye or Stranda/Engeset.\n",
      "\n",
      "Worth noting You are strongly advised not to use the snow fields on the way down unless you have an ice axe and know how to brake with it. \n",
      "(5)\n",
      "Slogen is arguably the finest summit in the Sunnmøre Alps and the view is impressive! From the fjord a triangular pyramid-like feature rises straight up. Patchellhytta cabin lies at the foot of Slogen and is popular day tour objective in itself, but it is also a good starting point for ascents of Slogen, as well as Brekketind (5,833 ft) and Smørskredstind (5,351 ft). There are several alternative routes to Patchellhytta, and onwards to Slogen, either from Øye, Engeset or Urke. Season Jun - Sept Duration From Øye: 4-5 hours, Urke: 5 hours and Patchellhytta: 2-3 hours. Distance and total height gain: From Øye: 3 km. 4,921 ft. From Patchellhytta: 3 km. 2,460 ft. From Urke: 3,937 ft. 8 km. Access Bus/car to Øye or Stranda/Engeset. Worth noting You are strongly advised not to use the snow fields on the way down unless you have an ice axe and know how to brake with it. This practice leads to several serious accidents every year.\n",
      "\n",
      "Slogen is arguably the finest summit in the Sunnmøre Alps and the view is impressive! From the fjord a triangular pyramid-like feature rises straight up. \n",
      "\u001b[0m\n",
      "Thought:"
     ]
    },
    {
     "name": "stderr",
     "output_type": "stream",
     "text": [
      "\n"
     ]
    },
    {
     "name": "stdout",
     "output_type": "stream",
     "text": [
      "\u001b[32;1m\u001b[1;3m I know what to respond\n",
      "Action:\n",
      "```\n",
      "{\n",
      "  \"action\": \"Final Answer\",\n",
      "  \"action_input\": \"Public transport in Øye is accessible by bus or car and is a popular destination for day trips. There are several routes to Patchellhytta, and onwards to Slogen, either from Øye, Engeset or Urke. However, it is important to note that you should not use the snow fields on the way down unless you have an ice axe and know how to brake with it, as this practice leads to several serious accidents every year.\"\n",
      "}\n",
      "```\n",
      "\n",
      "\u001b[0m\n",
      "\n",
      "\u001b[1m> Finished chain.\u001b[0m\n",
      "\n",
      "\n",
      "\u001b[1m> Entering new AgentExecutor chain...\u001b[0m\n",
      "\u001b[32;1m\u001b[1;3m\n",
      "Action:\n",
      "```\n",
      "{\n",
      "  \"action\": \"Semantic search\",\n",
      "  \"action_input\": {\n",
      "    \"query\": \"attractions\",\n",
      "    \"filter\": \"Øye\",\n",
      "    \"topk\": 3\n",
      "  }\n",
      "}\n",
      "```\n",
      "\n",
      "\u001b[0m"
     ]
    },
    {
     "name": "stderr",
     "output_type": "stream",
     "text": [
      "Batches: 100%|██████████| 1/1 [00:00<00:00,  9.22it/s]"
     ]
    },
    {
     "name": "stdout",
     "output_type": "stream",
     "text": [
      "\n",
      "Observation: \u001b[38;5;200m\u001b[1;3mQuery: attractions\n",
      "(1)\n",
      "Now, and then the highlight of the day is the 3-course dinner, composed by our chef with the best local ingredients of the season. Served in the dining room and followed by excellent tales of days long gone told in the Sun Lounge while you savour your coffee. Enjoy an evening of refreshments as you gaze up at cascading waterfalls.\n",
      "\n",
      "You will be pleased to know that daylight hours in the summer at Øye lasts until midnight, giving you extra time to explore the beautiful mountains nearby. Take a walk down to the waterside to admire the majestic mountains reflected in the fjords.\n",
      "\n",
      "Hotel Union Øye is a 62°Nord hotel. 62°Nord offers tailor made activities in Fjord Norway.\n",
      "\n",
      "unionoye.no\n",
      "\n",
      "#hotelunionoye\n",
      "(2)\n",
      "In the village of Øye by the Norangsfjord you will find one of the most distinct hotels in all of Europe.\n",
      "\n",
      "In the village of Øye by the Norangsfjord you will find one of the most distinct hotels in all of Europe.\n",
      "\n",
      "It has been a place where visitors come to savour the good life and the tranquillity in magnificent surroundings since 1891. It has been a favourite venue of royalties, writers and lovers for generations.\n",
      "\n",
      "The 27 rooms, all of which are individually furnished with carefully selected antiques, are named after notables who have stayed here: Kaiser Wilhelm, King Oscar, Queen Maud and Princess Victoria; the authors Karen Blixen, Knut Hamsun and Sir Arthur Conan Doyle; the composer Edvard Grieg, playwright Henrik Ibsen and the explorer Roald Amundsen, to mention but a few.\n",
      "\n",
      "Now, and then the highlight of the day is the 3-course dinner, composed by our chef with the best local ingredients of the season. Served in the dining room and followed by excellent tales of days long gone told in the Sun Lounge while you savour your coffee. Enjoy an evening of refreshments as you gaze up at cascading waterfalls.\n",
      "\n",
      "\n",
      "(3)\n",
      "Worth noting You are strongly advised not to use the snow fields on the way down unless you have an ice axe and know how to brake with it. This practice leads to several serious accidents every year.\n",
      "\n",
      "Slogen is arguably the finest summit in the Sunnmøre Alps and the view is impressive! From the fjord a triangular pyramid-like feature rises straight up. Patchellhytta cabin lies at the foot of Slogen and is popular day tour objective in itself, but it is also a good starting point for ascents of Slogen, as well as Brekketind (5,833 ft) and Smørskredstind (5,351 ft). There are several alternative routes to Patchellhytta, and onwards to Slogen, either from Øye, Engeset or Urke.\n",
      "\n",
      "Season Jun - Sept\n",
      "\n",
      "Duration From Øye: 4-5 hours, Urke: 5 hours and Patchellhytta: 2-3 hours. Distance and total height gain: From Øye: 3 km. 4,921 ft. From Patchellhytta: 3 km. 2,460 ft. From Urke: 3,937 ft. 8 km.\n",
      "\n",
      "Access Bus/car to Øye or Stranda/Engeset.\n",
      "\n",
      "Worth noting You are strongly advised not to use the snow fields on the way down unless you have an ice axe and know how to brake with it. \n",
      "\u001b[0m\n",
      "Thought:"
     ]
    },
    {
     "name": "stderr",
     "output_type": "stream",
     "text": [
      "\n"
     ]
    },
    {
     "name": "stdout",
     "output_type": "stream",
     "text": [
      "\u001b[32;1m\u001b[1;3m I have the information I need to respond\n",
      "Action:\n",
      "```\n",
      "{\n",
      "  \"action\": \"Final Answer\",\n",
      "  \"action_input\": \"Some off-the-beaten-path attractions to explore in Øye include Hotel Union Øye, Slogen summit, and Patchellhytta cabin. Be sure to bring an ice axe if you plan to explore the snow fields.\"\n",
      "}\n",
      "```\n",
      "\u001b[0m\n",
      "\n",
      "\u001b[1m> Finished chain.\u001b[0m\n",
      "\n",
      "\n",
      "\u001b[1m> Entering new AgentExecutor chain...\u001b[0m\n",
      "\u001b[32;1m\u001b[1;3mAction:\n",
      "```\n",
      "{\n",
      "  \"action\": \"Semantic search\",\n",
      "  \"action_input\": {\n",
      "    \"query\": \"Is it safe to travel to Øye?\",\n",
      "    \"filter\": \"Øye\",\n",
      "    \"topk\": 5\n",
      "  }\n",
      "}\n",
      "```\n",
      "\n",
      "\u001b[0m"
     ]
    },
    {
     "name": "stderr",
     "output_type": "stream",
     "text": [
      "Batches: 100%|██████████| 1/1 [00:00<00:00, 15.10it/s]"
     ]
    },
    {
     "name": "stdout",
     "output_type": "stream",
     "text": [
      "\n",
      "Observation: \u001b[38;5;200m\u001b[1;3mQuery: Is it safe to travel to Øye?\n",
      "(1)\n",
      "Distance and total height gain: From Øye: 3 km. 4,921 ft. From Patchellhytta: 3 km. 2,460 ft. From Urke: 3,937 ft. 8 km.\n",
      "\n",
      "Access Bus/car to Øye or Stranda/Engeset.\n",
      "\n",
      "Worth noting You are strongly advised not to use the snow fields on the way down unless you have an ice axe and know how to brake with it. This practice leads to several serious accidents every year.\n",
      "(2)\n",
      "In the village of Øye by the Norangsfjord you will find one of the most distinct hotels in all of Europe.\n",
      "\n",
      "In the village of Øye by the Norangsfjord you will find one of the most distinct hotels in all of Europe.\n",
      "\n",
      "It has been a place where visitors come to savour the good life and the tranquillity in magnificent surroundings since 1891. It has been a favourite venue of royalties, writers and lovers for generations.\n",
      "\n",
      "The 27 rooms, all of which are individually furnished with carefully selected antiques, are named after notables who have stayed here: Kaiser Wilhelm, King Oscar, Queen Maud and Princess Victoria; the authors Karen Blixen, Knut Hamsun and Sir Arthur Conan Doyle; the composer Edvard Grieg, playwright Henrik Ibsen and the explorer Roald Amundsen, to mention but a few.\n",
      "\n",
      "Now, and then the highlight of the day is the 3-course dinner, composed by our chef with the best local ingredients of the season. Served in the dining room and followed by excellent tales of days long gone told in the Sun Lounge while you savour your coffee. Enjoy an evening of refreshments as you gaze up at cascading waterfalls.\n",
      "\n",
      "\n",
      "(3)\n",
      "Now, and then the highlight of the day is the 3-course dinner, composed by our chef with the best local ingredients of the season. Served in the dining room and followed by excellent tales of days long gone told in the Sun Lounge while you savour your coffee. Enjoy an evening of refreshments as you gaze up at cascading waterfalls.\n",
      "\n",
      "You will be pleased to know that daylight hours in the summer at Øye lasts until midnight, giving you extra time to explore the beautiful mountains nearby. Take a walk down to the waterside to admire the majestic mountains reflected in the fjords.\n",
      "\n",
      "Hotel Union Øye is a 62°Nord hotel. 62°Nord offers tailor made activities in Fjord Norway.\n",
      "\n",
      "unionoye.no\n",
      "\n",
      "#hotelunionoye\n",
      "(4)\n",
      "Worth noting You are strongly advised not to use the snow fields on the way down unless you have an ice axe and know how to brake with it. This practice leads to several serious accidents every year.\n",
      "\n",
      "Slogen is arguably the finest summit in the Sunnmøre Alps and the view is impressive! From the fjord a triangular pyramid-like feature rises straight up. Patchellhytta cabin lies at the foot of Slogen and is popular day tour objective in itself, but it is also a good starting point for ascents of Slogen, as well as Brekketind (5,833 ft) and Smørskredstind (5,351 ft). There are several alternative routes to Patchellhytta, and onwards to Slogen, either from Øye, Engeset or Urke.\n",
      "\n",
      "Season Jun - Sept\n",
      "\n",
      "Duration From Øye: 4-5 hours, Urke: 5 hours and Patchellhytta: 2-3 hours. Distance and total height gain: From Øye: 3 km. 4,921 ft. From Patchellhytta: 3 km. 2,460 ft. From Urke: 3,937 ft. 8 km.\n",
      "\n",
      "Access Bus/car to Øye or Stranda/Engeset.\n",
      "\n",
      "Worth noting You are strongly advised not to use the snow fields on the way down unless you have an ice axe and know how to brake with it. \n",
      "(5)\n",
      "Slogen is arguably the finest summit in the Sunnmøre Alps and the view is impressive! From the fjord a triangular pyramid-like feature rises straight up. Patchellhytta cabin lies at the foot of Slogen and is popular day tour objective in itself, but it is also a good starting point for ascents of Slogen, as well as Brekketind (5,833 ft) and Smørskredstind (5,351 ft). There are several alternative routes to Patchellhytta, and onwards to Slogen, either from Øye, Engeset or Urke. Season Jun - Sept Duration From Øye: 4-5 hours, Urke: 5 hours and Patchellhytta: 2-3 hours. Distance and total height gain: From Øye: 3 km. 4,921 ft. From Patchellhytta: 3 km. 2,460 ft. From Urke: 3,937 ft. 8 km. Access Bus/car to Øye or Stranda/Engeset. Worth noting You are strongly advised not to use the snow fields on the way down unless you have an ice axe and know how to brake with it. This practice leads to several serious accidents every year.\n",
      "\n",
      "Slogen is arguably the finest summit in the Sunnmøre Alps and the view is impressive! From the fjord a triangular pyramid-like feature rises straight up. \n",
      "\u001b[0m\n",
      "Thought:"
     ]
    },
    {
     "name": "stderr",
     "output_type": "stream",
     "text": [
      "\n"
     ]
    },
    {
     "name": "stdout",
     "output_type": "stream",
     "text": [
      "\u001b[32;1m\u001b[1;3m I know what to respond\n",
      "Action:\n",
      "```\n",
      "{\n",
      "  \"action\": \"Final Answer\",\n",
      "  \"action_input\": \"Yes, it is safe to travel to Øye. However, you should take precautions when travelling in the area, such as bringing an ice axe and knowing how to use it to brake on snow fields. You can access Øye by bus or car from Stranda/Engeset.\"\n",
      "}\n",
      "```\n",
      "\u001b[0m\n",
      "\n",
      "\u001b[1m> Finished chain.\u001b[0m\n"
     ]
    },
    {
     "name": "stderr",
     "output_type": "stream",
     "text": [
      "Writing Documents: 10000it [00:00, 668905.33it/s]       \n"
     ]
    },
    {
     "name": "stdout",
     "output_type": "stream",
     "text": [
      "starting to analyze Norangsfjord\n"
     ]
    },
    {
     "name": "stderr",
     "output_type": "stream",
     "text": [
      "Looking at alternatenames: 100%|██████████| 607428/607428 [00:10<00:00, 57211.60it/s]"
     ]
    },
    {
     "name": "stdout",
     "output_type": "stream",
     "text": [
      "couldn't find coordinates...\n"
     ]
    },
    {
     "name": "stderr",
     "output_type": "stream",
     "text": [
      "\n"
     ]
    }
   ],
   "source": [
    "for place in initial_places[:2]:\n",
    "    print(f\"starting to analyze {place}\")\n",
    "    #step1 filter\n",
    "    document_dict = {\"Name\":place}\n",
    "    #step 1 filter out words \n",
    "    prompt_template = \"Does the word {place} refer to a general concept? Answer only Yes or No\"\n",
    "\n",
    "    llm_chain = LLMChain(\n",
    "        llm=llm,\n",
    "        prompt=PromptTemplate.from_template(prompt_template)\n",
    "    )\n",
    "    input_list = [\n",
    "        {\"place\": place},\n",
    "    ]\n",
    "    result = llm_chain.apply(input_list)[0][\"text\"]\n",
    "\n",
    "    if \"no\" in result.lower():\n",
    "        cords = cordi_searchy_tool.run(place,\"NO\")\n",
    "        if cords is None:\n",
    "            print(\"couldn't find coordinates...\")\n",
    "            continue\n",
    "    \n",
    "    document_dict[\"coordinates\"] = cords\n",
    "\n",
    "    #step2 create description\n",
    "    agent = initialize_agent(tools_step2, llm, agent=AgentType.STRUCTURED_CHAT_ZERO_SHOT_REACT_DESCRIPTION, verbose=True)\n",
    "    prompt_step2 = f\"\"\"\n",
    "    Elaborate a condensed touristic guide about {place} clearly portraying in different sections: main attractions, touristic landmarks(if the place isn't one itself) and things to do as a tourist on vacation there.\n",
    "    Do not talk about other places, search and add as many information as possible.\n",
    "    \"\"\"\n",
    "    description = agent.run(prompt_step2)\n",
    "\n",
    "    summary = description + \"\\n\\nFrequently asked questions:\\n\"\n",
    "\n",
    "    #step3 FAQ\n",
    "    faqs = [\n",
    "    f\"What is the weather like in {place}?\",\n",
    "    f\"What is the best time of the year to visit {place}?\",\n",
    "    f\"How good is public transport in {place}?\",\n",
    "    f\"What are some off-the-beaten-path attractions to explore in {place}?\",\n",
    "    f\"Is it safe to travel to {place}? Any safety concerns/precautions?\",\n",
    "    ]\n",
    "\n",
    "    for question in faqs:\n",
    "        #having some error:\n",
    "        #ValidationError: 2 validation errors for Semantic searchSchemaSchema\n",
    "        #query\n",
    "        #field required (type=value_error.missing)\n",
    "        #filter\n",
    "        #field required (type=value_error.missing)\n",
    "\n",
    "        try:\n",
    "            summary += question + \" \" + agent.run(f\"Answer the following question: {question} The answer should be very consice.\") + \"\\n\\n\"\n",
    "        except:\n",
    "            pass\n",
    "    document_dict[\"content\"] = summary\n",
    "\n",
    "    #use zero shot classification to get tag\n",
    "    output = classifier(summary, candidate_labels, multi_label=False)\n",
    "    document_dict[\"tag\"] = output[\"labels\"][0]\n",
    "\n",
    "    #save to doc_store\n",
    "    places_doc_store.write_documents([Document.from_dict(document_dict)])"
   ]
  },
  {
   "cell_type": "code",
   "execution_count": 21,
   "metadata": {},
   "outputs": [
    {
     "name": "stderr",
     "output_type": "stream",
     "text": [
      "Batches: 100%|██████████| 1/1 [00:00<00:00,  1.21it/s]ocs/s]\n",
      "Documents Processed: 100 docs [00:00, 119.29 docs/s]         \n"
     ]
    }
   ],
   "source": [
    "places_doc_store.update_embeddings(retriever,batch_size=100)"
   ]
  },
  {
   "cell_type": "code",
   "execution_count": 22,
   "metadata": {},
   "outputs": [],
   "source": [
    "places_doc_store.save(index_path=\"places_doc_store.faiss\", config_path=\"places_doc_store_config.json\")"
   ]
  }
 ],
 "metadata": {
  "kernelspec": {
   "display_name": "Python 3.9.6 64-bit",
   "language": "python",
   "name": "python3"
  },
  "language_info": {
   "codemirror_mode": {
    "name": "ipython",
    "version": 3
   },
   "file_extension": ".py",
   "mimetype": "text/x-python",
   "name": "python",
   "nbconvert_exporter": "python",
   "pygments_lexer": "ipython3",
   "version": "3.9.6"
  },
  "orig_nbformat": 4,
  "vscode": {
   "interpreter": {
    "hash": "31f2aee4e71d21fbe5cf8b01ff0e069b9275f58929596ceb00d14d90e3e16cd6"
   }
  }
 },
 "nbformat": 4,
 "nbformat_minor": 2
}
