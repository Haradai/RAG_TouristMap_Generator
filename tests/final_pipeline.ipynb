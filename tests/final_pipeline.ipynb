{
 "cells": [
  {
   "cell_type": "markdown",
   "metadata": {},
   "source": [
    "Assuming we have a db of documents (lots of scraped articles) ready to extract from.\n",
    "We also assume we have found a list of places we are interested in knowing about."
   ]
  },
  {
   "cell_type": "markdown",
   "metadata": {},
   "source": []
  },
  {
   "cell_type": "code",
   "execution_count": 1,
   "metadata": {},
   "outputs": [],
   "source": [
    "import pickle\n",
    "with open('initial_places.pkl', 'rb') as f:\n",
    "    initial_places = pickle.load(f)"
   ]
  },
  {
   "cell_type": "markdown",
   "metadata": {},
   "source": [
    "To answer many questions we'll make use of the previously scraped articles. Furthermore new information searched in the internet will be added here."
   ]
  },
  {
   "cell_type": "code",
   "execution_count": 2,
   "metadata": {},
   "outputs": [
    {
     "name": "stderr",
     "output_type": "stream",
     "text": [
      "/Users/josepsmachine/miniforge3/envs/haystack_stuff/lib/python3.9/site-packages/tqdm/auto.py:21: TqdmWarning: IProgress not found. Please update jupyter and ipywidgets. See https://ipywidgets.readthedocs.io/en/stable/user_install.html\n",
      "  from .autonotebook import tqdm as notebook_tqdm\n"
     ]
    }
   ],
   "source": [
    "from qdrant_haystack import QdrantDocumentStore\n",
    "\n",
    "document_store = QdrantDocumentStore(\n",
    "    path=\"qdrant\",\n",
    "    index=\"Document\",\n",
    "    embedding_dim=768,\n",
    "    recreate_index=False,\n",
    ")"
   ]
  },
  {
   "cell_type": "code",
   "execution_count": 3,
   "metadata": {},
   "outputs": [
    {
     "name": "stderr",
     "output_type": "stream",
     "text": [
      "Some weights of the model checkpoint at dslim/bert-base-NER were not used when initializing BertForTokenClassification: ['bert.pooler.dense.bias', 'bert.pooler.dense.weight']\n",
      "- This IS expected if you are initializing BertForTokenClassification from the checkpoint of a model trained on another task or with another architecture (e.g. initializing a BertForSequenceClassification model from a BertForPreTraining model).\n",
      "- This IS NOT expected if you are initializing BertForTokenClassification from the checkpoint of a model that you expect to be exactly identical (initializing a BertForSequenceClassification model from a BertForSequenceClassification model).\n"
     ]
    }
   ],
   "source": [
    "from src.search_scrape_PIPE import search_scrape_pipeline\n",
    "search_scrape_pipe = search_scrape_pipeline(document_store)"
   ]
  },
  {
   "cell_type": "code",
   "execution_count": 4,
   "metadata": {},
   "outputs": [],
   "source": [
    "from duckduckgo_search import DDGS\n",
    "\n",
    "def internet_search_tool(search:str,n_results=3)->bool:\n",
    "    '''\n",
    "    This function makes use of the chatgpt api and google search library to, \n",
    "    given some place in the form of a string and a country name determine if \n",
    "    that place is in the named country or even a place at all.\n",
    "    For that we will first inject to gpt a summary of the top 15 results found.\n",
    "\n",
    "    :param place: string of the place to search\n",
    "    :param place: string of the country to search\n",
    "    :param n_results: number of page summaries to show to gpt     \n",
    "    '''\n",
    "\n",
    "    #first of all we'll perform a search and add the results.\n",
    "    result_links = search_scrape_pipe.run(search,topk=20)\n",
    "\n",
    "\n",
    "    results = f\"Search: {search}\\nResults:\\n\"\n",
    "    #now we'll look for our results in the doc_store using the returned links\n",
    "    cnt = 0\n",
    "    for doc in document_store.get_all_documents_generator():\n",
    "        if doc.meta[\"url\"] in result_links:\n",
    "            results += f\"({cnt+1})\\n \" + doc.meta[\"summary\"] + \"\\n\"\n",
    "            cnt += 1\n",
    "\n",
    "            #delete the link from result_links as one summary can appear in multiple documents\n",
    "            #if a page has been chopped into chunks\n",
    "            result_links.pop(result_links.index(doc.meta[\"url\"]))\n",
    "        \n",
    "        if cnt == n_results:\n",
    "            break\n",
    "    \n",
    "    return results\n"
   ]
  },
  {
   "cell_type": "code",
   "execution_count": 5,
   "metadata": {},
   "outputs": [
    {
     "name": "stdout",
     "output_type": "stream",
     "text": [
      "Already in DB: https://trolltunga.com/\n",
      "Already in DB: https://en.wikipedia.org/wiki/Trolltunga\n",
      "Already in DB: https://www.tripadvisor.com/Attraction_Review-g1096319-d3522548-Reviews-Trolltunga-Odda_Hardanger_Hordaland_Western_Norway.html\n",
      "Already in DB: https://trolltunga.com/plan-your-trip/the-hike-to-trolltunga/\n",
      "Already in DB: https://thenorwayguide.com/trolltunga/\n",
      "Already in DB: https://www.fjordnorway.com/en/see-and-do/trolltunga\n",
      "Already in DB: https://norwegianroutes.com/trolltunga/\n",
      "Already in DB: https://www.trolltunganorway.com/en_GB\n",
      "Already in DB: https://www.lonelyplanet.com/norway/bergen-and-the-western-fjords/odda/attractions/trolltunga/a/poi-sig/1416541/360173\n",
      "Already in DB: https://viatravelers.com/trolltunga-norway/\n"
     ]
    },
    {
     "name": "stderr",
     "output_type": "stream",
     "text": [
      " 30%|███       | 3/10 [00:02<00:06,  1.03it/s]"
     ]
    },
    {
     "name": "stdout",
     "output_type": "stream",
     "text": [
      "Unable to extract text from https://www.earthtrekkers.com/trolltunga/\n"
     ]
    },
    {
     "name": "stderr",
     "output_type": "stream",
     "text": [
      " 60%|██████    | 6/10 [00:03<00:02,  1.84it/s]"
     ]
    },
    {
     "name": "stdout",
     "output_type": "stream",
     "text": [
      "Unable to extract text from https://www.lifeinnorway.net/hiking-trolltunga-beginners/\n"
     ]
    },
    {
     "name": "stderr",
     "output_type": "stream",
     "text": [
      " 80%|████████  | 8/10 [00:05<00:01,  1.60it/s]"
     ]
    },
    {
     "name": "stdout",
     "output_type": "stream",
     "text": [
      "Unable to extract text from https://www.youtube.com/watch?v=Z4CrrkQ9ZOA\n"
     ]
    },
    {
     "name": "stderr",
     "output_type": "stream",
     "text": [
      " 90%|█████████ | 9/10 [00:05<00:00,  1.95it/s]"
     ]
    },
    {
     "name": "stdout",
     "output_type": "stream",
     "text": [
      "Unable to download the article https://www.alltrails.com/trail/norway/vestland/trolltunga-t-merket\n"
     ]
    },
    {
     "name": "stderr",
     "output_type": "stream",
     "text": [
      "100%|██████████| 10/10 [00:05<00:00,  1.76it/s]\n"
     ]
    },
    {
     "name": "stdout",
     "output_type": "stream",
     "text": [
      "Unable to download the article https://www.alltrails.com/trail/norway/vestland/skjeggedal-trolltunga\n"
     ]
    },
    {
     "name": "stderr",
     "output_type": "stream",
     "text": [
      "Preprocessing: 100%|██████████| 5/5 [00:00<00:00, 364.27docs/s]\n",
      "Extracting entities: 100%|██████████| 1/1 [00:01<00:00,  1.63s/it]\n",
      "10000it [00:00, 384234.52it/s]        \n"
     ]
    },
    {
     "data": {
      "text/plain": [
       "'Search: trolltunga, norway\\nResults:\\n(1)\\n Trolltunga - all you need to know about hiking the \"Troll\\'s tongue\"Trolltunga (Troll\\'s tongue) is a rock formation and a popular hike in Norway.\\nTucked away between fjords, villages and towns, you will find some of the most beautiful and breathtaking rock formations in Norway, like Trolltunga (Troll\\'s tongue).\\nIt is here that you start the hike up to Trolltunga rock, one of the most spectacular rock formations in Norway.\\nIf you are travelling from Bergen to Odda for the Trolltunga hike, you can take bus number 930 from Bergen Bus Station (bay O).\\nRead more about the hike \"Trolltunga guided overnight hike\" here.\\n(2)\\n Here’s some fun facts about this small Norwegian fjord town.\\nFruit farms and orchards dot the fjord road, from where apples and cherries can be purchased.\\nThe famous Trolltunga.\\nOdda was built on heavy industryDespite the tourism interest, the economy of Odda has always been based on heavy industry.\\nOdda’s valley is home to two famous waterfallsFrom Odda, a short drive takes you into the Odda valley (Oddadalen), home to some of the country’s famous waterfalls.\\n(3)\\n From here, you can enjoy the dramatic fjord landscape and the view of the Folgefonna glacier.\\nWhere in Norway is Trolltunga?\\nIt takes about 20 minutes to drive from Odda to the starting point of the trip at P2 (parking – see below).\\nDepending on where you park (see below), a roundtrip to Trolltunga takes between 7 and 15 hours and covers between 20 and 38 km.\\nTrolltunga parking and shuttle busYou can use your own car or travel by bus to get to the starting point for the hike to Trolltunga.\\n'"
      ]
     },
     "execution_count": 5,
     "metadata": {},
     "output_type": "execute_result"
    }
   ],
   "source": [
    "internet_search_tool(\"trolltunga, norway\")"
   ]
  },
  {
   "cell_type": "markdown",
   "metadata": {},
   "source": [
    "# AGENT"
   ]
  },
  {
   "cell_type": "markdown",
   "metadata": {},
   "source": [
    "We'll use langchain's agent instead of haystack because of the convenience of many tools."
   ]
  },
  {
   "cell_type": "code",
   "execution_count": 6,
   "metadata": {},
   "outputs": [
    {
     "name": "stderr",
     "output_type": "stream",
     "text": [
      "/Users/josepsmachine/miniforge3/envs/haystack_stuff/lib/python3.9/site-packages/torch/_utils.py:776: UserWarning: TypedStorage is deprecated. It will be removed in the future and UntypedStorage will be the only storage class. This should only matter to you if you are using storages directly.  To access UntypedStorage directly, use tensor.untyped_storage() instead of tensor.storage()\n",
      "  return self.fget.__get__(instance, owner)()\n",
      "You seem to be using sentence-transformers/multi-qa-mpnet-base-dot-v1 model with the cosine function instead of the recommended dot_product. This can be set when initializing the DocumentStore\n"
     ]
    }
   ],
   "source": [
    "from haystack.nodes import EmbeddingRetriever\n",
    "import torch\n",
    "\n",
    "retriever = EmbeddingRetriever(\n",
    "            document_store=document_store, embedding_model=\"sentence-transformers/multi-qa-mpnet-base-dot-v1\",use_gpu=True,devices=[torch.device(\"mps\")]\n",
    "        )"
   ]
  },
  {
   "cell_type": "markdown",
   "metadata": {},
   "source": [
    "## Step 1\n",
    "\n",
    "Filtering actual real places from the input feed and creating a brief description."
   ]
  },
  {
   "cell_type": "code",
   "execution_count": 7,
   "metadata": {},
   "outputs": [],
   "source": [
    "from langchain.agents import initialize_agent\n",
    "from langchain.agents import AgentType\n",
    "from langchain.llms import OpenAI\n",
    "from langchain.agents.tools import Tool"
   ]
  },
  {
   "cell_type": "code",
   "execution_count": 93,
   "metadata": {},
   "outputs": [],
   "source": [
    "#llm initialisation\n",
    "llm = OpenAI(temperature=0,openai_api_key=\"\")"
   ]
  },
  {
   "cell_type": "code",
   "execution_count": 9,
   "metadata": {},
   "outputs": [],
   "source": [
    "#wikipedia search tool\n",
    "from langchain.tools import WikipediaQueryRun\n",
    "from langchain.utilities import WikipediaAPIWrapper\n",
    "\n",
    "wikipedia = WikipediaQueryRun(api_wrapper=WikipediaAPIWrapper())"
   ]
  },
  {
   "cell_type": "code",
   "execution_count": 10,
   "metadata": {},
   "outputs": [],
   "source": [
    "tools_step1 = [\n",
    "    Tool(\n",
    "        name = \"Wikipedia search\",\n",
    "        func = wikipedia.run,\n",
    "        description= \"Search and access information from Wikipedia. Should be the first source to check. \"\n",
    "    ),\n",
    "    Tool(\n",
    "        name = \"Broad knowledge search\",\n",
    "        func = internet_search_tool,\n",
    "        description = \"Returns three search results based on your input text, good for broad information.\"\n",
    "    ),\n",
    "   \n",
    "]"
   ]
  },
  {
   "cell_type": "code",
   "execution_count": 11,
   "metadata": {},
   "outputs": [],
   "source": [
    "agent = initialize_agent(tools_step1, llm, agent=AgentType.ZERO_SHOT_REACT_DESCRIPTION, verbose=True)"
   ]
  },
  {
   "cell_type": "code",
   "execution_count": 12,
   "metadata": {},
   "outputs": [],
   "source": [
    "place = \"hike\"\n",
    "prompt = f\"\"\"\n",
    "Words like (Library, School, Coliseum, Hospital, Fjord) without any context represent the idea of these places rather than a concrete location in the world.\n",
    "In contrast words like (Barcelona, Rome, Philipines), even without any context represent a concrete place on earth, somewhere unique I can pinpoint with coordinates.\n",
    "\n",
    "Does the word {place} fall on the first category or second? Answer only A or B. Please answer only with one letter.\n",
    "\n",
    "If you don't know the word search for it using the provided tools.\n",
    "\"\"\"\n",
    "#agent.run(prompt)\n"
   ]
  },
  {
   "cell_type": "markdown",
   "metadata": {},
   "source": [
    "# Step 1 v2"
   ]
  },
  {
   "cell_type": "markdown",
   "metadata": {},
   "source": [
    "If we cannot find coordinates for the place skip it. Anyhow beforehand common wods have to be filtered."
   ]
  },
  {
   "cell_type": "code",
   "execution_count": 116,
   "metadata": {},
   "outputs": [
    {
     "name": "stdout",
     "output_type": "stream",
     "text": [
      "\u001b[0;31mSignature:\u001b[0m\n",
      "\u001b[0mgeolocator\u001b[0m\u001b[0;34m.\u001b[0m\u001b[0mgeocode\u001b[0m\u001b[0;34m(\u001b[0m\u001b[0;34m\u001b[0m\n",
      "\u001b[0;34m\u001b[0m    \u001b[0mquery\u001b[0m\u001b[0;34m,\u001b[0m\u001b[0;34m\u001b[0m\n",
      "\u001b[0;34m\u001b[0m    \u001b[0;34m*\u001b[0m\u001b[0;34m,\u001b[0m\u001b[0;34m\u001b[0m\n",
      "\u001b[0;34m\u001b[0m    \u001b[0mexactly_one\u001b[0m\u001b[0;34m=\u001b[0m\u001b[0;32mTrue\u001b[0m\u001b[0;34m,\u001b[0m\u001b[0;34m\u001b[0m\n",
      "\u001b[0;34m\u001b[0m    \u001b[0mtimeout\u001b[0m\u001b[0;34m=\u001b[0m\u001b[0mDEFAULT_SENTINEL\u001b[0m\u001b[0;34m,\u001b[0m\u001b[0;34m\u001b[0m\n",
      "\u001b[0;34m\u001b[0m    \u001b[0mlimit\u001b[0m\u001b[0;34m=\u001b[0m\u001b[0;32mNone\u001b[0m\u001b[0;34m,\u001b[0m\u001b[0;34m\u001b[0m\n",
      "\u001b[0;34m\u001b[0m    \u001b[0maddressdetails\u001b[0m\u001b[0;34m=\u001b[0m\u001b[0;32mFalse\u001b[0m\u001b[0;34m,\u001b[0m\u001b[0;34m\u001b[0m\n",
      "\u001b[0;34m\u001b[0m    \u001b[0mlanguage\u001b[0m\u001b[0;34m=\u001b[0m\u001b[0;32mFalse\u001b[0m\u001b[0;34m,\u001b[0m\u001b[0;34m\u001b[0m\n",
      "\u001b[0;34m\u001b[0m    \u001b[0mgeometry\u001b[0m\u001b[0;34m=\u001b[0m\u001b[0;32mNone\u001b[0m\u001b[0;34m,\u001b[0m\u001b[0;34m\u001b[0m\n",
      "\u001b[0;34m\u001b[0m    \u001b[0mextratags\u001b[0m\u001b[0;34m=\u001b[0m\u001b[0;32mFalse\u001b[0m\u001b[0;34m,\u001b[0m\u001b[0;34m\u001b[0m\n",
      "\u001b[0;34m\u001b[0m    \u001b[0mcountry_codes\u001b[0m\u001b[0;34m=\u001b[0m\u001b[0;32mNone\u001b[0m\u001b[0;34m,\u001b[0m\u001b[0;34m\u001b[0m\n",
      "\u001b[0;34m\u001b[0m    \u001b[0mviewbox\u001b[0m\u001b[0;34m=\u001b[0m\u001b[0;32mNone\u001b[0m\u001b[0;34m,\u001b[0m\u001b[0;34m\u001b[0m\n",
      "\u001b[0;34m\u001b[0m    \u001b[0mbounded\u001b[0m\u001b[0;34m=\u001b[0m\u001b[0;32mFalse\u001b[0m\u001b[0;34m,\u001b[0m\u001b[0;34m\u001b[0m\n",
      "\u001b[0;34m\u001b[0m    \u001b[0mfeaturetype\u001b[0m\u001b[0;34m=\u001b[0m\u001b[0;32mNone\u001b[0m\u001b[0;34m,\u001b[0m\u001b[0;34m\u001b[0m\n",
      "\u001b[0;34m\u001b[0m    \u001b[0mnamedetails\u001b[0m\u001b[0;34m=\u001b[0m\u001b[0;32mFalse\u001b[0m\u001b[0;34m,\u001b[0m\u001b[0;34m\u001b[0m\n",
      "\u001b[0;34m\u001b[0m\u001b[0;34m)\u001b[0m\u001b[0;34m\u001b[0m\u001b[0;34m\u001b[0m\u001b[0m\n",
      "\u001b[0;31mDocstring:\u001b[0m\n",
      "Return a location point by address.\n",
      "\n",
      ":param query: The address, query or a structured query\n",
      "    you wish to geocode.\n",
      "\n",
      "    For a structured query, provide a dictionary whose keys\n",
      "    are one of: `street`, `city`, `county`, `state`, `country`, or\n",
      "    `postalcode`. For more information, see Nominatim's\n",
      "    documentation for `structured requests`:\n",
      "\n",
      "        https://nominatim.org/release-docs/develop/api/Search\n",
      "\n",
      ":type query: dict or str\n",
      "\n",
      ":param bool exactly_one: Return one result or a list of results, if\n",
      "    available.\n",
      "\n",
      ":param int timeout: Time, in seconds, to wait for the geocoding service\n",
      "    to respond before raising a :class:`geopy.exc.GeocoderTimedOut`\n",
      "    exception. Set this only if you wish to override, on this call\n",
      "    only, the value set during the geocoder's initialization.\n",
      "\n",
      ":param int limit: Maximum amount of results to return from Nominatim.\n",
      "    Unless exactly_one is set to False, limit will always be 1.\n",
      "\n",
      ":param bool addressdetails: If you want in *Location.raw* to include\n",
      "    address details such as house_number, city_district, postcode, etc\n",
      "    (in a structured form) set it to True\n",
      "\n",
      ":param str language: Preferred language in which to return results.\n",
      "    Either uses standard\n",
      "    `RFC2616 <http://www.ietf.org/rfc/rfc2616.txt>`_\n",
      "    accept-language string or a simple comma-separated\n",
      "    list of language codes.\n",
      "\n",
      ":param str geometry: If present, specifies whether the geocoding\n",
      "    service should return the result's geometry in `wkt`, `svg`,\n",
      "    `kml`, or `geojson` formats. This is available via the\n",
      "    `raw` attribute on the returned :class:`geopy.location.Location`\n",
      "    object.\n",
      "\n",
      ":param bool extratags: Include additional information in the result if available,\n",
      "    e.g. wikipedia link, opening hours.\n",
      "\n",
      ":param country_codes: Limit search results\n",
      "    to a specific country (or a list of countries).\n",
      "    A country_code should be the ISO 3166-1alpha2 code,\n",
      "    e.g. ``gb`` for the United Kingdom, ``de`` for Germany, etc.\n",
      "\n",
      ":type country_codes: str or list\n",
      "\n",
      ":type viewbox: list or tuple of 2 items of :class:`geopy.point.Point` or\n",
      "    ``(latitude, longitude)`` or ``\"%(latitude)s, %(longitude)s\"``.\n",
      "\n",
      ":param viewbox: Prefer this area to find search results. By default this is\n",
      "    treated as a hint, if you want to restrict results to this area,\n",
      "    specify ``bounded=True`` as well.\n",
      "    Example: ``[Point(22, 180), Point(-22, -180)]``.\n",
      "\n",
      ":param bool bounded: Restrict the results to only items contained\n",
      "    within the bounding ``viewbox``.\n",
      "\n",
      ":param str featuretype: If present, restrict results to certain type of features.\n",
      "    Allowed values: `country`, `state`, `city`, `settlement`.\n",
      "\n",
      ":param bool namedetails: If you want in *Location.raw* to include\n",
      "    namedetails, set it to True. This will be a list of alternative names,\n",
      "    including language variants, etc.\n",
      "\n",
      ":rtype: ``None``, :class:`geopy.location.Location` or a list of them, if\n",
      "    ``exactly_one=False``.\n",
      "\u001b[0;31mFile:\u001b[0m      ~/miniforge3/envs/haystack_stuff/lib/python3.9/site-packages/geopy/geocoders/nominatim.py\n",
      "\u001b[0;31mType:\u001b[0m      method"
     ]
    }
   ],
   "source": [
    "geolocator.geocode?"
   ]
  },
  {
   "cell_type": "code",
   "execution_count": 117,
   "metadata": {},
   "outputs": [],
   "source": [
    "import pandas as pd\n",
    "from tqdm import tqdm\n",
    "from geopy.geocoders import Nominatim\n",
    "class coordinates_search():\n",
    "    def __init__(self,df_pth:str):\n",
    "        features = {\n",
    "            'geonameid': 'integer id of record in geonames database',\n",
    "            'name': 'name of geographical point (utf8) varchar(200)',\n",
    "            'asciiname': 'name of geographical point in plain ascii characters, varchar(200)',\n",
    "            'alternatenames': 'alternatenames, comma separated, ascii names automatically transliterated, convenience attribute from alternatename table, varchar(10000)',\n",
    "            'latitude': 'latitude in decimal degrees (wgs84)',\n",
    "            'longitude': 'longitude in decimal degrees (wgs84)',\n",
    "            'feature class': 'see http://www.geonames.org/export/codes.html, char(1)',\n",
    "            'feature code': 'see http://www.geonames.org/export/codes.html, varchar(10)',\n",
    "            'country code': 'ISO-3166 2-letter country code, 2 characters',\n",
    "            'cc2': 'alternate country codes, comma separated, ISO-3166 2-letter country code, 200 characters',\n",
    "            'admin1 code': 'fipscode (subject to change to iso code), see exceptions below, see file admin1Codes.txt for display names of this code; varchar(20)',\n",
    "            'admin2 code': 'code for the second administrative division, a county in the US, see file admin2Codes.txt; varchar(80)',\n",
    "            'admin3 code': 'code for third level administrative division, varchar(20)',\n",
    "            'admin4 code': 'code for fourth level administrative division, varchar(20)',\n",
    "            'population': 'bigint (8 byte int)',\n",
    "            'elevation': 'in meters, integer',\n",
    "            'dem': 'digital elevation model, srtm3 or gtopo30, average elevation of 3\\'\\'x3\\'\\' (ca 90mx90m) or 30\\'\\'x30\\'\\' (ca 900mx900m) area in meters, integer. srtm processed by cgiar/ciat.',\n",
    "            'timezone': 'the iana timezone id (see file timeZone.txt) varchar(40)',\n",
    "            'modification date': 'date of last modification in yyyy-MM-dd format'\n",
    "        }\n",
    "        self.df = pd.read_csv('NO.txt', sep=\"\\t\", header=None,names=features.keys())\n",
    "        self.geolocator = Nominatim(user_agent=\"tourist map app\")\n",
    "    \n",
    "    def run(self,query,country):\n",
    "        #option1 search in name column\n",
    "        if len(self.df[self.df[\"name\"]==query])  > 0:\n",
    "            coords = self.df[self.df[\"name\"]==query].iloc[0][[\"latitude\",\"longitude\"]].to_list()\n",
    "            \n",
    "            #make sure\n",
    "            for i in range(2):\n",
    "                coords[i] = float(coords[i])\n",
    "            \n",
    "            return coords\n",
    "        \n",
    "        #option 2 use geopy\n",
    "        location = self.geolocator.geocode(query,country_codes=[country])\n",
    "        if location != None:\n",
    "            return [location.latitude,location.longitude]\n",
    "        \n",
    "        #option 3 check alternate names\n",
    "        for i, row in tqdm(self.df.iterrows(),desc=\"Looking at alternatenames\",total=len(self.df)):\n",
    "            if row[\"alternatenames\"] is str:\n",
    "                if query.lower() in row[\"alternatenames\"].lower().split(\" \"):\n",
    "                    coords = row[[\"latitude\",\"longitude\"]].to_list()\n",
    "                    \n",
    "                    #make sure\n",
    "                    for i in range(2):\n",
    "                        coords[i] = float(coords[i])\n",
    "                    \n",
    "                    return coords\n",
    "\n",
    "        print(\"Unable to find coordinates for this place\")\n",
    "        return None"
   ]
  },
  {
   "cell_type": "code",
   "execution_count": 118,
   "metadata": {},
   "outputs": [
    {
     "name": "stderr",
     "output_type": "stream",
     "text": [
      "/var/folders/j8/64lnvrmj50q5dv_5dj_ztbz40000gn/T/ipykernel_67714/4292410052.py:27: DtypeWarning: Columns (0,5,9,16) have mixed types. Specify dtype option on import or set low_memory=False.\n",
      "  self.df = pd.read_csv('NO.txt', sep=\"\\t\", header=None,names=features.keys())\n"
     ]
    }
   ],
   "source": [
    "cordi_searchy_tool = coordinates_search(\"NO.txt\")"
   ]
  },
  {
   "cell_type": "code",
   "execution_count": 130,
   "metadata": {},
   "outputs": [],
   "source": [
    "place = \"Månafossen\""
   ]
  },
  {
   "cell_type": "code",
   "execution_count": 131,
   "metadata": {},
   "outputs": [],
   "source": [
    "from langchain import PromptTemplate, OpenAI, LLMChain\n",
    "\n",
    "prompt_template = \"Does the word {place} refer to a general concept? Answer only Yes or No\"\n",
    "\n",
    "llm_chain = LLMChain(\n",
    "    llm=llm,\n",
    "    prompt=PromptTemplate.from_template(prompt_template)\n",
    ")\n",
    "input_list = [\n",
    "    {\"place\": place},\n",
    "]\n",
    "result = llm_chain.apply(input_list)[0][\"text\"]\n"
   ]
  },
  {
   "cell_type": "code",
   "execution_count": 132,
   "metadata": {},
   "outputs": [
    {
     "data": {
      "text/plain": [
       "'\\n\\nNo'"
      ]
     },
     "execution_count": 132,
     "metadata": {},
     "output_type": "execute_result"
    }
   ],
   "source": [
    "result"
   ]
  },
  {
   "cell_type": "code",
   "execution_count": 133,
   "metadata": {},
   "outputs": [
    {
     "name": "stdout",
     "output_type": "stream",
     "text": [
      "[58.85767, 6.38368]\n"
     ]
    },
    {
     "ename": "",
     "evalue": "",
     "output_type": "error",
     "traceback": [
      "\u001b[1;31mThe Kernel crashed while executing code in the the current cell or a previous cell. Please review the code in the cell(s) to identify a possible cause of the failure. Click <a href='https://aka.ms/vscodeJupyterKernelCrash'>here</a> for more info. View Jupyter <a href='command:jupyter.viewOutput'>log</a> for further details."
     ]
    }
   ],
   "source": [
    "if \"no\" in result.lower():\n",
    "    cords = cordi_searchy_tool.run(place,\"NO\")\n",
    "    if cords is None:\n",
    "        print(place)\n",
    "    else:\n",
    "        print(cords)"
   ]
  },
  {
   "cell_type": "markdown",
   "metadata": {},
   "source": [
    "## Step 2\n",
    "\n",
    "We'll use the brief description to build on top of it a slightly longer one comprising more touristically relevant information.\n",
    "\n",
    "- main attractions\n",
    "- touristic landmarks if the place isn't one itself\n",
    "- things to do on vacation there\n"
   ]
  },
  {
   "cell_type": "markdown",
   "metadata": {},
   "source": [
    "We'll add a new tool for searching the actual content of the scraped webpages more precisely instead of just summaries."
   ]
  },
  {
   "cell_type": "code",
   "execution_count": 13,
   "metadata": {},
   "outputs": [
    {
     "name": "stderr",
     "output_type": "stream",
     "text": [
      "Special tokens have been added in the vocabulary, make sure the associated word embeddings are fine-tuned or trained.\n",
      "Special tokens have been added in the vocabulary, make sure the associated word embeddings are fine-tuned or trained.\n"
     ]
    }
   ],
   "source": [
    "#first the question answerer that uses a combination of qa pipeline \n",
    "# with entailment checker and t5 to generate possible answers to a question \n",
    "# and their entailment to the knowledge base.\n",
    "from src.question_search_answer_entail_TOOL import question_search_answer_entail\n",
    "QSAE_tool = question_search_answer_entail(document_store,retriever=retriever)"
   ]
  },
  {
   "cell_type": "code",
   "execution_count": 14,
   "metadata": {},
   "outputs": [],
   "source": [
    "#QSAE_tool.run(\"what are the main atractions in bergen?\")"
   ]
  },
  {
   "cell_type": "code",
   "execution_count": 15,
   "metadata": {},
   "outputs": [],
   "source": [
    "from src.simple_search_TOOL import simple_search\n",
    "SS = simple_search(document_store,retriever)"
   ]
  },
  {
   "cell_type": "code",
   "execution_count": 16,
   "metadata": {},
   "outputs": [],
   "source": [
    "#SS.run(\"places to eat in bergen\",filter=\"Bergen\",topk=2)"
   ]
  },
  {
   "cell_type": "code",
   "execution_count": 17,
   "metadata": {},
   "outputs": [],
   "source": [
    "#because this is a multi input tool\n",
    "from langchain.tools import StructuredTool"
   ]
  },
  {
   "cell_type": "code",
   "execution_count": 18,
   "metadata": {},
   "outputs": [],
   "source": [
    "tools_step2 = [\n",
    "    Tool(\n",
    "        name = \"Broad knowledge search\",\n",
    "        func = internet_search_tool,\n",
    "        description = \"Returns three search results based on your input text, good for broad information.\"\n",
    "    ),\n",
    "\n",
    "    Tool(\n",
    "        name =  \"Question answerer\",\n",
    "        func = QSAE_tool.run,\n",
    "        description= \"Useful to find new information. Further evaluation of the answers and fact checking has to be performed using other tools. This tool should be the last resources\"\n",
    "    ),\n",
    "\n",
    "    StructuredTool.from_function(SS.run,\n",
    "    name=\"Semantic search\",\n",
    "    description=\"Useful to search for concrete information. The filter argument should always be the place being searched for (properly capitalize the name).\"\n",
    "    )\n",
    "   \n",
    "]"
   ]
  },
  {
   "cell_type": "code",
   "execution_count": 19,
   "metadata": {},
   "outputs": [],
   "source": [
    "agent = initialize_agent(tools_step2, llm, agent=AgentType.STRUCTURED_CHAT_ZERO_SHOT_REACT_DESCRIPTION, verbose=True)"
   ]
  },
  {
   "cell_type": "code",
   "execution_count": 20,
   "metadata": {},
   "outputs": [],
   "source": [
    "prompt_step2 = f\"\"\"\n",
    "Given the following brief description about {place} elaborate a larger description clearly portraying in different sections: main attractions, touristic landmarks(if the place isn't one itself) and things to do as a tourist on vacation there. \n",
    "Should serve as a condensed touristic guide.\n",
    "\n",
    "Initial description:\n",
    "Bergen is a city and municipality in Vestland county on the west coast of Norway. \n",
    "It is known for its port, Bryggen, which is a World Heritage Site, and for its mild winter climate. \n",
    "It is also home to the Bergen School of Meteorology, the Norwegian School of Economics, and the University of Bergen.\n",
    "\"\"\""
   ]
  },
  {
   "cell_type": "code",
   "execution_count": 21,
   "metadata": {},
   "outputs": [],
   "source": [
    "#agent.run(prompt_step2)"
   ]
  },
  {
   "cell_type": "markdown",
   "metadata": {},
   "source": [
    "# Step 3:\n",
    "Finally we'll try to answer some frequently asked questions about the place of interest.\n",
    "\n",
    "- How is the climate?\n",
    "- What is the best time of the year to visit?\n",
    "- How is public transport there?\n",
    "- What are some off-the-beaten-path attractions to explore?\n",
    "- Is it safe to travel here?\n",
    "- Where can I find more information or maps of the area?"
   ]
  },
  {
   "cell_type": "code",
   "execution_count": 22,
   "metadata": {},
   "outputs": [],
   "source": [
    "faqs = [\n",
    "    f\"How is the climate in {place}?\",\n",
    "    f\"What is the best time of the year to visit {place}\",\n",
    "    f\"How good is public transport in {place}\",\n",
    "    f\"What are some off-the-beaten-path attractions to explore in {place}?\",\n",
    "    f\"Is it safe to travel to {place}? Any safety concerns/precautions?\",\n",
    "    f\"Where can I find more information or maps of {place}?\"\n",
    "]\n"
   ]
  },
  {
   "cell_type": "code",
   "execution_count": 25,
   "metadata": {},
   "outputs": [],
   "source": [
    "#FAQ = {}\n",
    "#for question in faqs:\n",
    "#    FAQ[question] = agent.run(question)"
   ]
  },
  {
   "cell_type": "markdown",
   "metadata": {},
   "source": [
    "# Whole loop:"
   ]
  },
  {
   "cell_type": "markdown",
   "metadata": {},
   "source": [
    "We'll create a new document store for the information summarized."
   ]
  },
  {
   "cell_type": "code",
   "execution_count": null,
   "metadata": {},
   "outputs": [],
   "source": [
    "#step 1 filter out words \n",
    "prompt_template = \"Does the word {place} refer to a general concept? Answer only Yes or No\"\n",
    "\n",
    "llm_chain = LLMChain(\n",
    "    llm=llm,\n",
    "    prompt=PromptTemplate.from_template(prompt_template)\n",
    ")\n",
    "input_list = [\n",
    "    {\"place\": place},\n",
    "]\n",
    "result = llm_chain.apply(input_list)[0][\"text\"]\n",
    "\n",
    "if \"no\" in result.lower():\n",
    "    cords = cordi_searchy_tool.run(place,\"NO\")\n",
    "    if cords is not None:\n",
    "        print(cords)\n",
    "\n",
    "#step2 create description\n",
    "agent = initialize_agent(tools_step2, llm, agent=AgentType.STRUCTURED_CHAT_ZERO_SHOT_REACT_DESCRIPTION, verbose=True)\n",
    "prompt_step2 = f\"\"\"\n",
    "Elaborate a condensed touristic guide about {place} clearly portraying in different sections: main attractions, touristic landmarks(if the place isn't one itself) and things to do as a tourist on vacation there.\n",
    "Do not talk about other places, search and add as many information as possible.\n",
    "\"\"\"\n",
    "description = agent.run(prompt_step2)\n",
    "\n",
    "summary = description + \"\\n\\nFrequently asked questions:\\n\""
   ]
  },
  {
   "cell_type": "code",
   "execution_count": 23,
   "metadata": {},
   "outputs": [
    {
     "name": "stdout",
     "output_type": "stream",
     "text": [
      "starting to analyze Månafossen\n",
      "\n",
      "\n",
      "\u001b[1m> Entering new AgentExecutor chain...\u001b[0m\n"
     ]
    },
    {
     "name": "stderr",
     "output_type": "stream",
     "text": [
      "Retrying langchain.llms.openai.completion_with_retry.<locals>._completion_with_retry in 4.0 seconds as it raised RateLimitError: You exceeded your current quota, please check your plan and billing details..\n",
      "Retrying langchain.llms.openai.completion_with_retry.<locals>._completion_with_retry in 4.0 seconds as it raised RateLimitError: You exceeded your current quota, please check your plan and billing details..\n",
      "Retrying langchain.llms.openai.completion_with_retry.<locals>._completion_with_retry in 4.0 seconds as it raised RateLimitError: You exceeded your current quota, please check your plan and billing details..\n",
      "Retrying langchain.llms.openai.completion_with_retry.<locals>._completion_with_retry in 4.0 seconds as it raised RateLimitError: You exceeded your current quota, please check your plan and billing details..\n"
     ]
    },
    {
     "name": "stdout",
     "output_type": "stream",
     "text": [
      "\n",
      "\n",
      "\u001b[1m> Entering new AgentExecutor chain...\u001b[0m\n"
     ]
    },
    {
     "name": "stderr",
     "output_type": "stream",
     "text": [
      "Retrying langchain.llms.openai.completion_with_retry.<locals>._completion_with_retry in 4.0 seconds as it raised RateLimitError: You exceeded your current quota, please check your plan and billing details..\n",
      "Retrying langchain.llms.openai.completion_with_retry.<locals>._completion_with_retry in 4.0 seconds as it raised RateLimitError: You exceeded your current quota, please check your plan and billing details..\n"
     ]
    }
   ],
   "source": [
    "SUMMARIES = {}\n",
    "for place in initial_places:\n",
    "    print(f\"starting to analyze {place}\")\n",
    "    #step1 filter\n",
    "    \n",
    "    summary = \"\"\n",
    "    #step3 FAQ\n",
    "    faqs = [\n",
    "    f\"What is the weather like in {place}?\",\n",
    "    f\"What is the best time of the year to visit {place}?\",\n",
    "    f\"How good is public transport in {place}?\",\n",
    "    f\"What are some off-the-beaten-path attractions to explore in {place}?\",\n",
    "    f\"Is it safe to travel to {place}? Any safety concerns/precautions?\",\n",
    "    ]\n",
    "\n",
    "    for question in faqs:\n",
    "        #having some error:\n",
    "        #ValidationError: 2 validation errors for Semantic searchSchemaSchema\n",
    "        #query\n",
    "        #field required (type=value_error.missing)\n",
    "        #filter\n",
    "        #field required (type=value_error.missing)\n",
    "\n",
    "        try:\n",
    "            summary += question + \" \" + agent.run(f\"Answer the following question: {question} The answer should be very consice.\") + \"\\n\\n\"\n",
    "        except:\n",
    "            pass\n",
    "    SUMMARIES[place] = summary\n",
    "    break"
   ]
  },
  {
   "cell_type": "code",
   "execution_count": 38,
   "metadata": {},
   "outputs": [
    {
     "name": "stdout",
     "output_type": "stream",
     "text": [
      "How is the climate in Månafossen? Månafossen is a stunning waterfall located in the Frafjordheiene landscape conservation area in Rogaland, Norway. It is the highest waterfall in the region, with a free fall of 92 metres. It is accessible via a short but steep hike from the parking lot at Eikeskog. The hike takes about an hour round trip and offers several lookout points over the canyon. It is possible to spend the night at Friluftsgarden Mån, but you must book the accommodation first. There is also a good chance of catching a mountain trout if you have a fishing rod with you.\n",
      "\n",
      "What is the best time of the year to visit Månafossen? The best time to visit Månafossen is during the summer months, when the weather is warm and the trails are open. The hike to the waterfall is short but steep, and it is recommended to wear good footwear. There are also camping and fishing opportunities in the area, as well as a restored mountain farm and an exhibition about the area's history. \n",
      "\n",
      "How good is public transport in Månafossen? Public transport to Månafossen is limited, but it is possible to reach the waterfall by car or by foot. The hike is a short but steep one, and takes about an hour round trip. There are also several other attractions in the area, such as the old mountain farm Mån, Friluftsgarden Mån, and the Frafjordheiene landscape conservation area. Fishing is also possible in the area, with a good chance of catching a mountain trout. \n",
      "\n",
      "What are some off-the-beaten-path attractions to explore in Månafossen?  I know what to respond\n",
      "Action:\n",
      "```\n",
      "{\n",
      "  \"action\": \"Final Answer\",\n",
      "  \"action_input\": \"Månafossen is a 92-meter high waterfall, situated on the brink of the small village of Frafjord (about an hour’s drive from Stavanger). The mountain range here is called Frafjordheiane and it’s an equivalent range where you’ll also find Flørli 4444 and Kjerag. Månafossen is simply one among of of the top 10 hikes, and is blessed with stunning scenery of the waterfall. The tour starts from the car park at Eikeskog and the path goes up to Månafossen and further inland to Mån and Fidjadalen valley. The first part of the path up to Månafossen is short and well organised. It is partly steep and rough. In the first 100 meters of the path, there are stone steps. Furthermore, in the steepest places, stairs and chains have been set up to hold on to. In rainy weather, parts of the path can be slippery, and it is important to have good footwear.\n",
      "\n",
      "Is it safe to travel to Månafossen? Any safety concerns/precautions? Månafossen is a popular tourist attraction located in the Frafjordheiane landscape conservation area. It is a short hike to the waterfall, however, the hike is steep and rough in some parts. There are stone steps and chains to hold on to in the steepest places. It is important to have good footwear in case of rain. There are also several viewpoints to see and hear the waterfall. It is possible to spend the night at Friluftsgarden Mån, but you must book the accommodation first. Fishing is also possible in the area. By car, it is a 60km drive south from Stavanger on the E39.\n",
      "\n",
      "\n"
     ]
    }
   ],
   "source": [
    "print(SUMMARIES[\"Månafossen\"])"
   ]
  },
  {
   "cell_type": "code",
   "execution_count": 26,
   "metadata": {},
   "outputs": [
    {
     "name": "stdout",
     "output_type": "stream",
     "text": [
      "Månafossen is a beautiful waterfall located near Eikeskog in the region of Rogaland. It is the tallest waterfall in the county and has a 90 meter free fall. There are several attractions and activities to do in the area, such as a guided hike to the waterfall, a camping spot with a fireplace, and a view of the canyon below. Additionally, visitors can combine a visit to Månafossen with a visit to the nearby Lysefjorden and Preikestolen. To get to Månafossen, take the exit to Frafjord from road R45 and follow the road (fv281) to Eikeskog.\n",
      "\n",
      "Frequently asked questions:\n",
      "How is the climate in Månafossen? The climate in Månafossen is generally cool and wet, with temperatures ranging from 0°C to 20°C. The area is known for its lush forests and stunning views of the waterfall. It is a great place to go for a hike and explore the area's natural beauty.\n",
      "What is the best time of the year to visit Månafossen The best time to visit Månafossen is during the summer months, when the weather is warmer and the trails are less slippery. The hike is steep, but the view is worth it. You can also explore the Mån Farm and the Frafjordheiene landscape conservation area. If you have a fishing rod, you can also try your luck at catching a mountain trout. Be sure to wear good footwear and bring a jacket as the weather can be unpredictable.\n",
      "How good is public transport in Månafossen Public transport to Månafossen is not available, however, it is a short hike from the car park to the waterfall. The path is steep and rough in some places, but it is still a family-friendly trip. There are several lookout points along the way, and it is possible to spend the night at Friluftsgarden Mån if you book in advance.\n",
      "What are some off-the-beaten-path attractions to explore in Månafossen?  I know what to respond\n",
      "Action:\n",
      "```\n",
      "{\n",
      "  \"action\": \"Final Answer\",\n",
      "  \"action_input\": \"Månafossen is a 92-meter high waterfall, situated on the brink of the small village of Frafjord (about an hour’s drive from Stavanger). The mountain range here is called Frafjordheiane and it’s an equivalent range where you’ll also find Flørli 4444 and Kjerag. Månafossen is simply one among of of the top 10 hikes, and is blessed with stunning scenery of the waterfall. The hike is steep with chains to hold on to for support. If you're planning on heading there now, I would recommend using hiking boots or at least shoes with a good grip as there is snow and some of the rocks are a little wet. It takes an average of 30mins to get to the top, you can do it in 15 if you're in reasonably good shape! The view is impressive, being the highest waterfall in the Rogaland standing at 92m. Now don't stop here. Continue hiking up and around the waterfall and you'll be greeted with another breathtaking view of the M\n",
      "Is it safe to travel to Månafossen? Any safety concerns/precautions? Yes, it is safe to travel to Månafossen. The trail is a little steep, so it is important to have good footwear and be aware of slippery conditions in rainy weather. There are also a few viewpoints near the path where you can see and hear the powerful 92-metre waterfall. If you have a day or two at your disposal, there are nice tent sites on the grassy areas down towards the river. It is also possible to spend the night at Friluftsgarden Mån, but then you must book the accommodation first.\n",
      "Where can I find more information or maps of Månafossen? You can find more information and maps of Månafossen on the Jæren Friluftsråd website. The hike to Månafossen is a 1-hour round trip and is family-friendly. There are also opportunities to stay overnight at Friluftsgarden Mån, but you must book the accommodation first. If you have a fishing rod with you, there is a good chance of catching a mountain trout on the hook.\n",
      "\n"
     ]
    }
   ],
   "source": [
    "print(summary)"
   ]
  },
  {
   "cell_type": "code",
   "execution_count": 67,
   "metadata": {},
   "outputs": [
    {
     "name": "stderr",
     "output_type": "stream",
     "text": [
      "/var/folders/j8/64lnvrmj50q5dv_5dj_ztbz40000gn/T/ipykernel_67714/1440737653.py:27: DtypeWarning: Columns (0,5,9,16) have mixed types. Specify dtype option on import or set low_memory=False.\n",
      "  self.df = pd.read_csv('NO.txt', sep=\"\\t\", header=None,names=features.keys())\n"
     ]
    }
   ],
   "source": [
    "coordinates_searhc = coordinates_search_tool(\"NO.txt\")"
   ]
  },
  {
   "cell_type": "code",
   "execution_count": 82,
   "metadata": {},
   "outputs": [
    {
     "name": "stderr",
     "output_type": "stream",
     "text": [
      "Looking at alternatenames: 100%|██████████| 607428/607428 [00:10<00:00, 55521.38it/s]\n"
     ]
    }
   ],
   "source": [
    "location = coordinates_searhc.run(\"Facebook\",\"norway\")"
   ]
  },
  {
   "cell_type": "code",
   "execution_count": 84,
   "metadata": {},
   "outputs": [],
   "source": [
    "location"
   ]
  },
  {
   "cell_type": "code",
   "execution_count": 129,
   "metadata": {},
   "outputs": [
    {
     "name": "stdout",
     "output_type": "stream",
     "text": [
      "Preikestolen, Osterøy, Vestland, 5284, Norge\n"
     ]
    }
   ],
   "source": [
    "from geopy.geocoders import Nominatim\n",
    "geolocator = Nominatim(user_agent=\"user_agent\")\n",
    "location = geolocator.geocode(\"Preikestolen\",country_codes=[\"no\"])\n",
    "print(location)"
   ]
  },
  {
   "cell_type": "code",
   "execution_count": 36,
   "metadata": {},
   "outputs": [
    {
     "data": {
      "text/plain": [
       "['Ozero',\n",
       " 'Bukhtles-Vandet,Ozero',\n",
       " 'Vouvatusyarvi,Ozero',\n",
       " 'Vouvatusjarvi,Ozero',\n",
       " 'Vouvatus”yarvi,Vaaggtemjaeuʹrr,Vagatamjavri,Vagatamjávri,Vaggatem,Vaggetem,Vaggetem',\n",
       " 'Vandet,Vaggetemjavrre,Vaggetemvatn,Vouvatus,Vouvatusjaervi,Vouvatusjärvi,Vââggtemjäuʹrr']"
      ]
     },
     "execution_count": 36,
     "metadata": {},
     "output_type": "execute_result"
    }
   ],
   "source": [
    "X.iloc[1][\"alternatenames\"].split(\" \")"
   ]
  }
 ],
 "metadata": {
  "kernelspec": {
   "display_name": "Python 3.9.16 ('haystack_stuff')",
   "language": "python",
   "name": "python3"
  },
  "language_info": {
   "codemirror_mode": {
    "name": "ipython",
    "version": 3
   },
   "file_extension": ".py",
   "mimetype": "text/x-python",
   "name": "python",
   "nbconvert_exporter": "python",
   "pygments_lexer": "ipython3",
   "version": "3.9.16"
  },
  "orig_nbformat": 4,
  "vscode": {
   "interpreter": {
    "hash": "d930c8f90cef31d5c3eafdb0997039099ff2e11e0c9956a78e415db9fc54a201"
   }
  }
 },
 "nbformat": 4,
 "nbformat_minor": 2
}
